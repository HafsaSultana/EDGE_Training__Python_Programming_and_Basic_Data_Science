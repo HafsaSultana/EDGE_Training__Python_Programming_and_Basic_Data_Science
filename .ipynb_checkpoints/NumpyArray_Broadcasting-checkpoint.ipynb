{
 "cells": [
  {
   "cell_type": "markdown",
   "id": "cbba1fa0",
   "metadata": {},
   "source": [
    "# BroadCasting"
   ]
  },
  {
   "cell_type": "code",
   "execution_count": 4,
   "id": "8026b5b9",
   "metadata": {},
   "outputs": [],
   "source": [
    "import numpy as np"
   ]
  },
  {
   "cell_type": "code",
   "execution_count": 5,
   "id": "c8311151",
   "metadata": {},
   "outputs": [
    {
     "data": {
      "text/plain": [
       "array([[1., 1., 1.],\n",
       "       [1., 1., 1.]])"
      ]
     },
     "execution_count": 5,
     "metadata": {},
     "output_type": "execute_result"
    }
   ],
   "source": [
    "M= np.ones((2,3))\n",
    "M"
   ]
  },
  {
   "cell_type": "code",
   "execution_count": 6,
   "id": "7b6ba8e3",
   "metadata": {},
   "outputs": [
    {
     "data": {
      "text/plain": [
       "array([0, 1, 2])"
      ]
     },
     "execution_count": 6,
     "metadata": {},
     "output_type": "execute_result"
    }
   ],
   "source": [
    "a = np.arange(3)\n",
    "a"
   ]
  },
  {
   "cell_type": "code",
   "execution_count": 7,
   "id": "14db9c06",
   "metadata": {},
   "outputs": [
    {
     "name": "stdout",
     "output_type": "stream",
     "text": [
      "[[1. 1. 1.]\n",
      " [1. 1. 1.]]\n",
      "[0 1 2]\n"
     ]
    }
   ],
   "source": [
    "print(M)\n",
    "print(a)"
   ]
  },
  {
   "cell_type": "code",
   "execution_count": 8,
   "id": "beeebbfa",
   "metadata": {},
   "outputs": [
    {
     "data": {
      "text/plain": [
       "array([[1., 2., 3.],\n",
       "       [1., 2., 3.]])"
      ]
     },
     "execution_count": 8,
     "metadata": {},
     "output_type": "execute_result"
    }
   ],
   "source": [
    "temp = M+a\n",
    "temp"
   ]
  },
  {
   "cell_type": "code",
   "execution_count": 9,
   "id": "f04c5bd9",
   "metadata": {},
   "outputs": [],
   "source": [
    "# Try Out 16"
   ]
  },
  {
   "cell_type": "code",
   "execution_count": 10,
   "id": "8bfdb289",
   "metadata": {},
   "outputs": [],
   "source": [
    "C= np.array([20,25,30,35])\n",
    "F= np.array([68,77,86,95])"
   ]
  },
  {
   "cell_type": "code",
   "execution_count": 11,
   "id": "b7937213",
   "metadata": {},
   "outputs": [
    {
     "data": {
      "text/plain": [
       "array([68., 77., 86., 95.])"
      ]
     },
     "execution_count": 11,
     "metadata": {},
     "output_type": "execute_result"
    }
   ],
   "source": [
    "temp =  C*9/5+32\n",
    "\n",
    "temp"
   ]
  },
  {
   "cell_type": "code",
   "execution_count": 12,
   "id": "5dadd44a",
   "metadata": {},
   "outputs": [
    {
     "name": "stdout",
     "output_type": "stream",
     "text": [
      "[ True  True  True  True]\n"
     ]
    }
   ],
   "source": [
    "x = temp == F\n",
    "print(x)\n",
    "# if x:\n",
    "#     print(True)\n",
    "# else:\n",
    "#     print(False)"
   ]
  },
  {
   "cell_type": "code",
   "execution_count": 13,
   "id": "9e0ff70d",
   "metadata": {},
   "outputs": [
    {
     "name": "stdout",
     "output_type": "stream",
     "text": [
      "True\n"
     ]
    }
   ],
   "source": [
    "print(np.array_equal(temp,F))"
   ]
  },
  {
   "cell_type": "markdown",
   "id": "fa64b389",
   "metadata": {},
   "source": [
    "# 18 Try Out "
   ]
  },
  {
   "cell_type": "code",
   "execution_count": 14,
   "id": "9ea2cdc2",
   "metadata": {},
   "outputs": [
    {
     "name": "stdout",
     "output_type": "stream",
     "text": [
      "[[78 68 72 73]\n",
      " [68 64 67 75]\n",
      " [62 63 73 75]\n",
      " [73 63 72 76]\n",
      " [69 65 64 70]\n",
      " [65 63 61 72]]\n"
     ]
    }
   ],
   "source": [
    "# Create a 2D array with random values\n",
    "student = np.random.randint(60,80,(6,4))\n",
    "print(student)\n"
   ]
  },
  {
   "cell_type": "code",
   "execution_count": 15,
   "id": "84eda846",
   "metadata": {},
   "outputs": [
    {
     "name": "stdout",
     "output_type": "stream",
     "text": [
      "[72.75 68.5  68.25 71.   67.   65.25]\n"
     ]
    }
   ],
   "source": [
    "Avg1= np.mean(student, axis = 1)  #avg all\n",
    "print(Avg1)"
   ]
  },
  {
   "cell_type": "code",
   "execution_count": 16,
   "id": "b708b142",
   "metadata": {},
   "outputs": [],
   "source": [
    "# 1st row"
   ]
  },
  {
   "cell_type": "code",
   "execution_count": 65,
   "id": "484de6f8",
   "metadata": {},
   "outputs": [
    {
     "data": {
      "text/plain": [
       "array([83, 73, 77, 78])"
      ]
     },
     "execution_count": 65,
     "metadata": {},
     "output_type": "execute_result"
    }
   ],
   "source": [
    "# 1st row\n",
    "student[0,:]"
   ]
  },
  {
   "cell_type": "code",
   "execution_count": 18,
   "id": "cd72482b",
   "metadata": {},
   "outputs": [],
   "source": [
    "# 1st row last column"
   ]
  },
  {
   "cell_type": "code",
   "execution_count": 19,
   "id": "26ea1966",
   "metadata": {},
   "outputs": [
    {
     "data": {
      "text/plain": [
       "array([73])"
      ]
     },
     "execution_count": 19,
     "metadata": {},
     "output_type": "execute_result"
    }
   ],
   "source": [
    "student[0,3:]"
   ]
  },
  {
   "cell_type": "code",
   "execution_count": 20,
   "id": "7a7999d2",
   "metadata": {},
   "outputs": [
    {
     "name": "stdout",
     "output_type": "stream",
     "text": [
      "[83 73 77 78]\n"
     ]
    }
   ],
   "source": [
    "with_bonus = student[0,:]+5\n",
    "print(with_bonus)"
   ]
  },
  {
   "cell_type": "code",
   "execution_count": 21,
   "id": "f5997837",
   "metadata": {},
   "outputs": [
    {
     "name": "stdout",
     "output_type": "stream",
     "text": [
      "[[83 73 77 78]\n",
      " [68 64 67 75]\n",
      " [62 63 73 75]\n",
      " [73 63 72 76]\n",
      " [69 65 64 70]\n",
      " [65 63 61 72]]\n"
     ]
    }
   ],
   "source": [
    "bonus = 5\n",
    "student[0,:] += bonus\n",
    "print(student)"
   ]
  },
  {
   "cell_type": "code",
   "execution_count": 22,
   "id": "1f8d8eef",
   "metadata": {},
   "outputs": [
    {
     "name": "stdout",
     "output_type": "stream",
     "text": [
      "[77.75 68.5  68.25 71.   67.   65.25]\n"
     ]
    }
   ],
   "source": [
    "Avg2= np.mean(student, axis = 1)  #avg all\n",
    "print(Avg2)"
   ]
  },
  {
   "cell_type": "code",
   "execution_count": 23,
   "id": "b0040b6c",
   "metadata": {},
   "outputs": [
    {
     "name": "stdout",
     "output_type": "stream",
     "text": [
      "False\n"
     ]
    }
   ],
   "source": [
    "print(np.array_equal(Avg1,Avg2))"
   ]
  },
  {
   "cell_type": "markdown",
   "id": "cc24cb25",
   "metadata": {},
   "source": [
    "# list to numpy_arr"
   ]
  },
  {
   "cell_type": "code",
   "execution_count": 25,
   "id": "b99eb085",
   "metadata": {},
   "outputs": [],
   "source": [
    "a= [23,34,56,78,22]\n",
    "b= [24,34,52,78,22]"
   ]
  },
  {
   "cell_type": "code",
   "execution_count": 56,
   "id": "98b2e5ca",
   "metadata": {},
   "outputs": [],
   "source": [
    "x = np.array([23,34,56,78,22])\n",
    "y = np.array([24,34,52,78,22])"
   ]
  },
  {
   "cell_type": "code",
   "execution_count": 57,
   "id": "74f6a864",
   "metadata": {},
   "outputs": [
    {
     "name": "stdout",
     "output_type": "stream",
     "text": [
      "Not Same list\n"
     ]
    }
   ],
   "source": [
    "if (a==b):\n",
    "    print(\"Same list\")\n",
    "else:\n",
    "    print(\"Not Same list\")"
   ]
  },
  {
   "cell_type": "code",
   "execution_count": 64,
   "id": "e8bea9e5",
   "metadata": {},
   "outputs": [
    {
     "name": "stdout",
     "output_type": "stream",
     "text": [
      "Same list\n"
     ]
    }
   ],
   "source": [
    "#for arr\n",
    "same = x & y\n",
    "if np.all(same) == True:\n",
    "    print(\"Same list\")\n",
    "else:\n",
    "    print(\"Not Same list\")\n"
   ]
  },
  {
   "cell_type": "markdown",
   "id": "0fc1996a",
   "metadata": {},
   "source": [
    "# try out 18 sir sln"
   ]
  },
  {
   "cell_type": "code",
   "execution_count": 33,
   "id": "0dcc0ec4",
   "metadata": {},
   "outputs": [
    {
     "data": {
      "text/plain": [
       "array([[75, 80, 85],\n",
       "       [80, 85, 90],\n",
       "       [90, 95, 75]])"
      ]
     },
     "execution_count": 33,
     "metadata": {},
     "output_type": "execute_result"
    }
   ],
   "source": [
    "marks = np.array([[75,80,85],\n",
    "                [80,85,90],\n",
    "                [90,95,75]])\n",
    "marks"
   ]
  },
  {
   "cell_type": "code",
   "execution_count": 34,
   "id": "bb5c9de4",
   "metadata": {},
   "outputs": [
    {
     "name": "stdout",
     "output_type": "stream",
     "text": [
      "[80.         85.         86.66666667]\n"
     ]
    }
   ],
   "source": [
    "marks_mean = np.mean(marks, axis=1)\n",
    "print(marks_mean)"
   ]
  },
  {
   "cell_type": "code",
   "execution_count": 35,
   "id": "1d3db7cb",
   "metadata": {},
   "outputs": [
    {
     "data": {
      "text/plain": [
       "array([[75, 80, 85],\n",
       "       [85, 90, 95],\n",
       "       [90, 95, 75]])"
      ]
     },
     "execution_count": 35,
     "metadata": {},
     "output_type": "execute_result"
    }
   ],
   "source": [
    "marks[1] +=5\n",
    "\n",
    "marks"
   ]
  },
  {
   "cell_type": "code",
   "execution_count": 36,
   "id": "c7a25fc3",
   "metadata": {},
   "outputs": [
    {
     "name": "stdout",
     "output_type": "stream",
     "text": [
      "[80.         90.         86.66666667]\n"
     ]
    }
   ],
   "source": [
    "marks_mean = np.mean(marks, axis=1)\n",
    "print(marks_mean)"
   ]
  },
  {
   "cell_type": "markdown",
   "id": "940fc136",
   "metadata": {},
   "source": [
    "# Comparison Masking , Bool logic"
   ]
  },
  {
   "cell_type": "code",
   "execution_count": 43,
   "id": "6e46da0e",
   "metadata": {},
   "outputs": [
    {
     "name": "stdout",
     "output_type": "stream",
     "text": [
      "[False False  True  True  True]\n"
     ]
    }
   ],
   "source": [
    "x = np.array([1,2,3,4,5])\n",
    "print(x>=3)"
   ]
  },
  {
   "cell_type": "code",
   "execution_count": 44,
   "id": "9f1d16f0",
   "metadata": {},
   "outputs": [
    {
     "data": {
      "text/plain": [
       "(array([2, 3, 4], dtype=int64),)"
      ]
     },
     "execution_count": 44,
     "metadata": {},
     "output_type": "execute_result"
    }
   ],
   "source": [
    "temp = np.where(x>=3)\n",
    "temp"
   ]
  },
  {
   "cell_type": "code",
   "execution_count": 53,
   "id": "8dce32ce",
   "metadata": {},
   "outputs": [
    {
     "name": "stdout",
     "output_type": "stream",
     "text": [
      "True\n"
     ]
    }
   ],
   "source": [
    "y = np.array([1,2,3,7,5]) \n",
    "temp = np.any(x==y)      #if one is true/same\n",
    "print(temp)"
   ]
  },
  {
   "cell_type": "code",
   "execution_count": 62,
   "id": "de43b7f8",
   "metadata": {},
   "outputs": [
    {
     "name": "stdout",
     "output_type": "stream",
     "text": [
      "False\n"
     ]
    }
   ],
   "source": [
    "temp = np.all(x==y)   #if all is true/same\n",
    "print(temp)"
   ]
  },
  {
   "cell_type": "code",
   "execution_count": null,
   "id": "5065544d",
   "metadata": {},
   "outputs": [],
   "source": []
  }
 ],
 "metadata": {
  "kernelspec": {
   "display_name": "Python 3 (ipykernel)",
   "language": "python",
   "name": "python3"
  },
  "language_info": {
   "codemirror_mode": {
    "name": "ipython",
    "version": 3
   },
   "file_extension": ".py",
   "mimetype": "text/x-python",
   "name": "python",
   "nbconvert_exporter": "python",
   "pygments_lexer": "ipython3",
   "version": "3.11.7"
  }
 },
 "nbformat": 4,
 "nbformat_minor": 5
}
