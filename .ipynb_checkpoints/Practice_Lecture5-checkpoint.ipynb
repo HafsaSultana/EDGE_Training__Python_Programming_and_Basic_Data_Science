{
 "cells": [
  {
   "cell_type": "code",
   "execution_count": 1,
   "id": "1bc836b3",
   "metadata": {},
   "outputs": [],
   "source": [
    "#Input a number and print"
   ]
  },
  {
   "cell_type": "code",
   "execution_count": 3,
   "id": "6c90281b",
   "metadata": {},
   "outputs": [
    {
     "name": "stdout",
     "output_type": "stream",
     "text": [
      "Enter your number: 123456789\n",
      "123456789\n"
     ]
    }
   ],
   "source": [
    "num=int(input(\"Enter your number: \"))\n",
    "print(num)"
   ]
  },
  {
   "cell_type": "code",
   "execution_count": 4,
   "id": "3eaeefd1",
   "metadata": {},
   "outputs": [],
   "source": [
    "#Input a number 1451.1545 into the variable and outpu only two decimal values"
   ]
  },
  {
   "cell_type": "code",
   "execution_count": 7,
   "id": "a0698df9",
   "metadata": {},
   "outputs": [
    {
     "name": "stdout",
     "output_type": "stream",
     "text": [
      "Enter your number: 123.564322\n",
      "123.56\n"
     ]
    }
   ],
   "source": [
    "num=float(input(\"Enter your number: \"))\n",
    "print(round(num,2))"
   ]
  },
  {
   "cell_type": "code",
   "execution_count": 8,
   "id": "f979475c",
   "metadata": {},
   "outputs": [],
   "source": [
    "#Take two strings and an integer. Print a single string."
   ]
  },
  {
   "cell_type": "code",
   "execution_count": 9,
   "id": "df4b0ed2",
   "metadata": {},
   "outputs": [
    {
     "name": "stdout",
     "output_type": "stream",
     "text": [
      "Enter your string: i am hafsa\n",
      "Enter your string: ok\n",
      "Enter your number: 1234\n",
      "i am hafsa\n"
     ]
    }
   ],
   "source": [
    "a=input(\"Enter your string: \")\n",
    "b=input(\"Enter your string: \")\n",
    "c=int(input(\"Enter your number: \"))\n",
    "print(a)"
   ]
  },
  {
   "cell_type": "code",
   "execution_count": 10,
   "id": "6938256d",
   "metadata": {},
   "outputs": [],
   "source": [
    "#Delete a variable"
   ]
  },
  {
   "cell_type": "code",
   "execution_count": 14,
   "id": "e51b3dc6",
   "metadata": {},
   "outputs": [
    {
     "name": "stdout",
     "output_type": "stream",
     "text": [
      "Hi\n"
     ]
    },
    {
     "ename": "NameError",
     "evalue": "name 's' is not defined",
     "output_type": "error",
     "traceback": [
      "\u001b[1;31m---------------------------------------------------------------------------\u001b[0m",
      "\u001b[1;31mNameError\u001b[0m                                 Traceback (most recent call last)",
      "Cell \u001b[1;32mIn[14], line 4\u001b[0m\n\u001b[0;32m      2\u001b[0m \u001b[38;5;28mprint\u001b[39m(s)\n\u001b[0;32m      3\u001b[0m \u001b[38;5;28;01mdel\u001b[39;00m s\n\u001b[1;32m----> 4\u001b[0m \u001b[38;5;28mprint\u001b[39m(s)\n",
      "\u001b[1;31mNameError\u001b[0m: name 's' is not defined"
     ]
    }
   ],
   "source": [
    "s=\"Hi\"\n",
    "print(s)\n",
    "del s\n",
    "print(s)"
   ]
  },
  {
   "cell_type": "code",
   "execution_count": 15,
   "id": "ec299050",
   "metadata": {},
   "outputs": [],
   "source": [
    "# Casting"
   ]
  },
  {
   "cell_type": "code",
   "execution_count": 17,
   "id": "65c25207",
   "metadata": {},
   "outputs": [
    {
     "name": "stdout",
     "output_type": "stream",
     "text": [
      "1 2 3\n"
     ]
    }
   ],
   "source": [
    "x = int(1)\n",
    "y = int(2.8)\n",
    "z = int(\"3\")\n",
    "print(x,y,z)\n"
   ]
  },
  {
   "cell_type": "code",
   "execution_count": 18,
   "id": "c2a959df",
   "metadata": {},
   "outputs": [
    {
     "name": "stdout",
     "output_type": "stream",
     "text": [
      "1.0 2.8 3.0 4.2\n"
     ]
    }
   ],
   "source": [
    "x = float(1) # x will be 1.0\n",
    "y = float(2.8) # y will be 2.8\n",
    "z = float(\"3\") # z will be 3.0\n",
    "w = float(\"4.2\")\n",
    "print(x,y,z,w)"
   ]
  },
  {
   "cell_type": "code",
   "execution_count": 20,
   "id": "4475b789",
   "metadata": {},
   "outputs": [
    {
     "name": "stdout",
     "output_type": "stream",
     "text": [
      "Hello!\n",
      "2\n",
      "3.0\n"
     ]
    }
   ],
   "source": [
    "x = str(\"Hello!\") # x will be 's1'\n",
    "y = str(2) # y will be '2'\n",
    "z = str(3.0) # z will be '3.0'\n",
    "print(x)\n",
    "print(y)\n",
    "print(z)"
   ]
  },
  {
   "cell_type": "code",
   "execution_count": 3,
   "id": "3b06ff27",
   "metadata": {},
   "outputs": [],
   "source": [
    "#String Formatting and Functions"
   ]
  },
  {
   "cell_type": "code",
   "execution_count": 4,
   "id": "2003e95c",
   "metadata": {},
   "outputs": [
    {
     "name": "stdout",
     "output_type": "stream",
     "text": [
      "This is a string\n",
      "that spans multiple lines.\n"
     ]
    }
   ],
   "source": [
    "message = 'Hello, world!' # Single quotes\n",
    "name = \"Alice\" # Double quotes\n",
    "multiline_text = \"\"\"This is a string\n",
    "that spans multiple lines.\"\"\" # Triple quotes\n",
    "print(multiline_text)"
   ]
  },
  {
   "cell_type": "code",
   "execution_count": null,
   "id": "417eaed1",
   "metadata": {},
   "outputs": [],
   "source": []
  }
 ],
 "metadata": {
  "kernelspec": {
   "display_name": "Python 3 (ipykernel)",
   "language": "python",
   "name": "python3"
  },
  "language_info": {
   "codemirror_mode": {
    "name": "ipython",
    "version": 3
   },
   "file_extension": ".py",
   "mimetype": "text/x-python",
   "name": "python",
   "nbconvert_exporter": "python",
   "pygments_lexer": "ipython3",
   "version": "3.11.7"
  }
 },
 "nbformat": 4,
 "nbformat_minor": 5
}
