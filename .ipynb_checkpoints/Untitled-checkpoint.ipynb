{
 "cells": [
  {
   "cell_type": "markdown",
   "id": "78278cb6",
   "metadata": {},
   "source": [
    "# BroadCasting"
   ]
  },
  {
   "cell_type": "code",
   "execution_count": 15,
   "id": "8ce27008",
   "metadata": {},
   "outputs": [],
   "source": [
    "import numpy as np"
   ]
  },
  {
   "cell_type": "code",
   "execution_count": 16,
   "id": "2f56a2a6",
   "metadata": {},
   "outputs": [
    {
     "data": {
      "text/plain": [
       "array([[1., 1., 1.],\n",
       "       [1., 1., 1.]])"
      ]
     },
     "execution_count": 16,
     "metadata": {},
     "output_type": "execute_result"
    }
   ],
   "source": [
    "M= np.ones((2,3))\n",
    "M"
   ]
  },
  {
   "cell_type": "code",
   "execution_count": 17,
   "id": "9ba74b96",
   "metadata": {},
   "outputs": [
    {
     "data": {
      "text/plain": [
       "array([0, 1, 2])"
      ]
     },
     "execution_count": 17,
     "metadata": {},
     "output_type": "execute_result"
    }
   ],
   "source": [
    "a = np.arange(3)\n",
    "a"
   ]
  },
  {
   "cell_type": "code",
   "execution_count": 18,
   "id": "8fcca203",
   "metadata": {},
   "outputs": [
    {
     "name": "stdout",
     "output_type": "stream",
     "text": [
      "[[1. 1. 1.]\n",
      " [1. 1. 1.]]\n",
      "[0 1 2]\n"
     ]
    }
   ],
   "source": [
    "print(M)\n",
    "print(a)"
   ]
  },
  {
   "cell_type": "code",
   "execution_count": 19,
   "id": "f5d0e62a",
   "metadata": {},
   "outputs": [
    {
     "data": {
      "text/plain": [
       "array([[1., 2., 3.],\n",
       "       [1., 2., 3.]])"
      ]
     },
     "execution_count": 19,
     "metadata": {},
     "output_type": "execute_result"
    }
   ],
   "source": [
    "temp = M+a\n",
    "temp"
   ]
  },
  {
   "cell_type": "code",
   "execution_count": 34,
   "id": "42864be9",
   "metadata": {},
   "outputs": [],
   "source": [
    "# Try Out 16"
   ]
  },
  {
   "cell_type": "code",
   "execution_count": 22,
   "id": "47a5c093",
   "metadata": {},
   "outputs": [],
   "source": [
    "C= np.array([20,25,30,35])\n",
    "F= np.array([68,77,86,95])"
   ]
  },
  {
   "cell_type": "code",
   "execution_count": 25,
   "id": "a2816439",
   "metadata": {},
   "outputs": [
    {
     "data": {
      "text/plain": [
       "array([68., 77., 86., 95.])"
      ]
     },
     "execution_count": 25,
     "metadata": {},
     "output_type": "execute_result"
    }
   ],
   "source": [
    "temp =  C*9/5+32\n",
    "\n",
    "temp"
   ]
  },
  {
   "cell_type": "code",
   "execution_count": 32,
   "id": "6fbbd005",
   "metadata": {},
   "outputs": [
    {
     "name": "stdout",
     "output_type": "stream",
     "text": [
      "[ True  True  True  True]\n"
     ]
    }
   ],
   "source": [
    "x = temp == F\n",
    "print(x)\n",
    "# if x:\n",
    "#     print(True)\n",
    "# else:\n",
    "#     print(False)"
   ]
  },
  {
   "cell_type": "code",
   "execution_count": 33,
   "id": "106f8f39",
   "metadata": {},
   "outputs": [
    {
     "name": "stdout",
     "output_type": "stream",
     "text": [
      "True\n"
     ]
    }
   ],
   "source": [
    "print(np.array_equal(temp,F))"
   ]
  },
  {
   "cell_type": "markdown",
   "id": "bf2e7152",
   "metadata": {},
   "source": [
    "# 18 Try Out "
   ]
  },
  {
   "cell_type": "code",
   "execution_count": 61,
   "id": "8b3a5e0d",
   "metadata": {},
   "outputs": [
    {
     "name": "stdout",
     "output_type": "stream",
     "text": [
      "[[65 72 76 77]\n",
      " [77 63 68 75]\n",
      " [79 68 61 72]\n",
      " [63 61 71 78]\n",
      " [73 61 75 71]\n",
      " [78 75 71 78]]\n"
     ]
    }
   ],
   "source": [
    "# Create a 2D array with random values\n",
    "student = np.random.randint(60,80,(6,4))\n",
    "print(student)\n"
   ]
  },
  {
   "cell_type": "code",
   "execution_count": 62,
   "id": "471aa178",
   "metadata": {},
   "outputs": [
    {
     "name": "stdout",
     "output_type": "stream",
     "text": [
      "[72.5  70.75 70.   68.25 70.   75.5 ]\n"
     ]
    }
   ],
   "source": [
    "Avg1= np.mean(student, axis = 1)  #avg all\n",
    "print(Avg1)"
   ]
  },
  {
   "cell_type": "code",
   "execution_count": 63,
   "id": "c1bf12cf",
   "metadata": {},
   "outputs": [],
   "source": [
    "# 1st row"
   ]
  },
  {
   "cell_type": "code",
   "execution_count": 71,
   "id": "39d5f02e",
   "metadata": {},
   "outputs": [
    {
     "data": {
      "text/plain": [
       "array([70, 77, 81, 82])"
      ]
     },
     "execution_count": 71,
     "metadata": {},
     "output_type": "execute_result"
    }
   ],
   "source": [
    "student[0,:]"
   ]
  },
  {
   "cell_type": "code",
   "execution_count": 65,
   "id": "5c4240ba",
   "metadata": {},
   "outputs": [],
   "source": [
    "# 1st row last column"
   ]
  },
  {
   "cell_type": "code",
   "execution_count": 66,
   "id": "2f5bc898",
   "metadata": {},
   "outputs": [
    {
     "data": {
      "text/plain": [
       "array([77])"
      ]
     },
     "execution_count": 66,
     "metadata": {},
     "output_type": "execute_result"
    }
   ],
   "source": [
    "student[0,3:]"
   ]
  },
  {
   "cell_type": "code",
   "execution_count": 67,
   "id": "9a860cfe",
   "metadata": {},
   "outputs": [
    {
     "name": "stdout",
     "output_type": "stream",
     "text": [
      "[70 77 81 82]\n"
     ]
    }
   ],
   "source": [
    "with_bonus = student[0,:]+5\n",
    "print(with_bonus)"
   ]
  },
  {
   "cell_type": "code",
   "execution_count": 68,
   "id": "6a7a7797",
   "metadata": {},
   "outputs": [
    {
     "name": "stdout",
     "output_type": "stream",
     "text": [
      "[[70 77 81 82]\n",
      " [77 63 68 75]\n",
      " [79 68 61 72]\n",
      " [63 61 71 78]\n",
      " [73 61 75 71]\n",
      " [78 75 71 78]]\n"
     ]
    }
   ],
   "source": [
    "student[0,:] +=5\n",
    "print(student)"
   ]
  },
  {
   "cell_type": "code",
   "execution_count": 69,
   "id": "59b515c1",
   "metadata": {},
   "outputs": [
    {
     "name": "stdout",
     "output_type": "stream",
     "text": [
      "[77.5  70.75 70.   68.25 70.   75.5 ]\n"
     ]
    }
   ],
   "source": [
    "Avg2= np.mean(student, axis = 1)  #avg all\n",
    "print(Avg2)"
   ]
  },
  {
   "cell_type": "code",
   "execution_count": 70,
   "id": "b4edb0ae",
   "metadata": {},
   "outputs": [
    {
     "name": "stdout",
     "output_type": "stream",
     "text": [
      "False\n"
     ]
    }
   ],
   "source": [
    "print(np.array_equal(Avg1,Avg2))"
   ]
  },
  {
   "cell_type": "code",
   "execution_count": null,
   "id": "9dcb3bb6",
   "metadata": {},
   "outputs": [],
   "source": []
  }
 ],
 "metadata": {
  "kernelspec": {
   "display_name": "Python 3 (ipykernel)",
   "language": "python",
   "name": "python3"
  },
  "language_info": {
   "codemirror_mode": {
    "name": "ipython",
    "version": 3
   },
   "file_extension": ".py",
   "mimetype": "text/x-python",
   "name": "python",
   "nbconvert_exporter": "python",
   "pygments_lexer": "ipython3",
   "version": "3.11.7"
  }
 },
 "nbformat": 4,
 "nbformat_minor": 5
}
