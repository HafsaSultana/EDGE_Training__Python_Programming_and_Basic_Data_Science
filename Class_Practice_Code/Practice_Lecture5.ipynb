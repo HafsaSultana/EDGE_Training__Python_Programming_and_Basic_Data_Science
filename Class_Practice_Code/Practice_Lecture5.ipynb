{
 "cells": [
  {
   "cell_type": "markdown",
   "id": "0f6006d2",
   "metadata": {},
   "source": [
    "# Input a number and print"
   ]
  },
  {
   "cell_type": "code",
   "execution_count": 3,
   "id": "6c90281b",
   "metadata": {},
   "outputs": [
    {
     "name": "stdout",
     "output_type": "stream",
     "text": [
      "Enter your number: 123456789\n",
      "123456789\n"
     ]
    }
   ],
   "source": [
    "num=int(input(\"Enter your number: \"))\n",
    "print(num)"
   ]
  },
  {
   "cell_type": "markdown",
   "id": "0ad6235d",
   "metadata": {},
   "source": [
    "# Input a number 1451.1545 into the variable and outpu only two decimal values "
   ]
  },
  {
   "cell_type": "code",
   "execution_count": 7,
   "id": "a0698df9",
   "metadata": {},
   "outputs": [
    {
     "name": "stdout",
     "output_type": "stream",
     "text": [
      "Enter your number: 123.564322\n",
      "123.56\n"
     ]
    }
   ],
   "source": [
    "num=float(input(\"Enter your number: \"))\n",
    "print(round(num,2))"
   ]
  },
  {
   "cell_type": "markdown",
   "id": "b917b51b",
   "metadata": {},
   "source": [
    "# Take two strings and an integer. Print a single string."
   ]
  },
  {
   "cell_type": "code",
   "execution_count": 9,
   "id": "df4b0ed2",
   "metadata": {},
   "outputs": [
    {
     "name": "stdout",
     "output_type": "stream",
     "text": [
      "Enter your string: i am hafsa\n",
      "Enter your string: ok\n",
      "Enter your number: 1234\n",
      "i am hafsa\n"
     ]
    }
   ],
   "source": [
    "a=input(\"Enter your string: \")\n",
    "b=input(\"Enter your string: \")\n",
    "c=int(input(\"Enter your number: \"))\n",
    "print(a)"
   ]
  },
  {
   "cell_type": "markdown",
   "id": "bad4e5ba",
   "metadata": {},
   "source": [
    "# Delete a variable"
   ]
  },
  {
   "cell_type": "code",
   "execution_count": 14,
   "id": "e51b3dc6",
   "metadata": {},
   "outputs": [
    {
     "name": "stdout",
     "output_type": "stream",
     "text": [
      "Hi\n"
     ]
    },
    {
     "ename": "NameError",
     "evalue": "name 's' is not defined",
     "output_type": "error",
     "traceback": [
      "\u001b[1;31m---------------------------------------------------------------------------\u001b[0m",
      "\u001b[1;31mNameError\u001b[0m                                 Traceback (most recent call last)",
      "Cell \u001b[1;32mIn[14], line 4\u001b[0m\n\u001b[0;32m      2\u001b[0m \u001b[38;5;28mprint\u001b[39m(s)\n\u001b[0;32m      3\u001b[0m \u001b[38;5;28;01mdel\u001b[39;00m s\n\u001b[1;32m----> 4\u001b[0m \u001b[38;5;28mprint\u001b[39m(s)\n",
      "\u001b[1;31mNameError\u001b[0m: name 's' is not defined"
     ]
    }
   ],
   "source": [
    "s=\"Hi\"\n",
    "print(s)\n",
    "del s\n",
    "print(s)"
   ]
  },
  {
   "cell_type": "markdown",
   "id": "05918f97",
   "metadata": {},
   "source": [
    "# Casting"
   ]
  },
  {
   "cell_type": "code",
   "execution_count": 17,
   "id": "65c25207",
   "metadata": {},
   "outputs": [
    {
     "name": "stdout",
     "output_type": "stream",
     "text": [
      "1 2 3\n"
     ]
    }
   ],
   "source": [
    "x = int(1)\n",
    "y = int(2.8)\n",
    "z = int(\"3\")\n",
    "print(x,y,z)\n"
   ]
  },
  {
   "cell_type": "code",
   "execution_count": 18,
   "id": "c2a959df",
   "metadata": {},
   "outputs": [
    {
     "name": "stdout",
     "output_type": "stream",
     "text": [
      "1.0 2.8 3.0 4.2\n"
     ]
    }
   ],
   "source": [
    "x = float(1) # x will be 1.0\n",
    "y = float(2.8) # y will be 2.8\n",
    "z = float(\"3\") # z will be 3.0\n",
    "w = float(\"4.2\")\n",
    "print(x,y,z,w)"
   ]
  },
  {
   "cell_type": "code",
   "execution_count": 20,
   "id": "4475b789",
   "metadata": {},
   "outputs": [
    {
     "name": "stdout",
     "output_type": "stream",
     "text": [
      "Hello!\n",
      "2\n",
      "3.0\n"
     ]
    }
   ],
   "source": [
    "x = str(\"Hello!\") # x will be 's1'\n",
    "y = str(2) # y will be '2'\n",
    "z = str(3.0) # z will be '3.0'\n",
    "print(x)\n",
    "print(y)\n",
    "print(z)"
   ]
  },
  {
   "cell_type": "markdown",
   "id": "4036043c",
   "metadata": {},
   "source": [
    "# String Formatting and Functions"
   ]
  },
  {
   "cell_type": "code",
   "execution_count": 4,
   "id": "2003e95c",
   "metadata": {},
   "outputs": [
    {
     "name": "stdout",
     "output_type": "stream",
     "text": [
      "This is a string\n",
      "that spans multiple lines.\n"
     ]
    }
   ],
   "source": [
    "message = 'Hello, world!' # Single quotes\n",
    "name = \"Alice\" # Double quotes\n",
    "multiline_text = \"\"\"This is a string\n",
    "that spans multiple lines.\"\"\" # Triple quotes\n",
    "print(multiline_text)"
   ]
  },
  {
   "cell_type": "markdown",
   "id": "b400dbdc",
   "metadata": {},
   "source": [
    "# Accessing Characters"
   ]
  },
  {
   "cell_type": "code",
   "execution_count": 6,
   "id": "60476033",
   "metadata": {},
   "outputs": [
    {
     "name": "stdout",
     "output_type": "stream",
     "text": [
      "H !\n"
     ]
    }
   ],
   "source": [
    "first_letter = message[0] # 'H'\n",
    "last_letter = message[-1] # '!’\n",
    "print(first_letter, last_letter)"
   ]
  },
  {
   "cell_type": "markdown",
   "id": "c1c70a1b",
   "metadata": {},
   "source": [
    "# Slicing\n",
    "Extract substrings using colon (:) notation within square brackets.          \n",
    "Syntax: [start:end:step]"
   ]
  },
  {
   "cell_type": "code",
   "execution_count": 13,
   "id": "8099d2f4",
   "metadata": {},
   "outputs": [
    {
     "name": "stdout",
     "output_type": "stream",
     "text": [
      "ython\n",
      "yhnl\n"
     ]
    }
   ],
   "source": [
    "message = \"PythonClass\"\n",
    "substring = message[1:6] # \"world\" (extracts characters from index 6 to 10)\n",
    "print(substring)\n",
    "substring = message[1:8:2] # \"world\" (extracts characters from index 6 to 10)\n",
    "print(substring)"
   ]
  },
  {
   "cell_type": "markdown",
   "id": "d8daee74",
   "metadata": {},
   "source": [
    "# Some string function"
   ]
  },
  {
   "cell_type": "code",
   "execution_count": 17,
   "id": "75d4e50d",
   "metadata": {},
   "outputs": [],
   "source": [
    "s = \"   My name is Hafsa. I have a big Dream!!  \""
   ]
  },
  {
   "cell_type": "code",
   "execution_count": 18,
   "id": "8519eed3",
   "metadata": {},
   "outputs": [
    {
     "data": {
      "text/plain": [
       "'   MY NAME IS HAFSA. I HAVE A BIG DREAM!!  '"
      ]
     },
     "execution_count": 18,
     "metadata": {},
     "output_type": "execute_result"
    }
   ],
   "source": [
    "s.upper()"
   ]
  },
  {
   "cell_type": "code",
   "execution_count": 19,
   "id": "212c3f16",
   "metadata": {},
   "outputs": [
    {
     "data": {
      "text/plain": [
       "'   my name is hafsa. i have a big dream!!  '"
      ]
     },
     "execution_count": 19,
     "metadata": {},
     "output_type": "execute_result"
    }
   ],
   "source": [
    "s.lower()"
   ]
  },
  {
   "cell_type": "code",
   "execution_count": 20,
   "id": "cc7aef9b",
   "metadata": {},
   "outputs": [
    {
     "data": {
      "text/plain": [
       "'My name is Hafsa. I have a big Dream!!'"
      ]
     },
     "execution_count": 20,
     "metadata": {},
     "output_type": "execute_result"
    }
   ],
   "source": [
    "s.strip()"
   ]
  },
  {
   "cell_type": "code",
   "execution_count": 22,
   "id": "b6930757",
   "metadata": {},
   "outputs": [
    {
     "data": {
      "text/plain": [
       "34"
      ]
     },
     "execution_count": 22,
     "metadata": {},
     "output_type": "execute_result"
    }
   ],
   "source": [
    "s.find(\"Dream\")  # return in first index"
   ]
  },
  {
   "cell_type": "code",
   "execution_count": 23,
   "id": "df2b0068",
   "metadata": {},
   "outputs": [
    {
     "data": {
      "text/plain": [
       "'   My name is Hafsa. I have a great Dream!!  '"
      ]
     },
     "execution_count": 23,
     "metadata": {},
     "output_type": "execute_result"
    }
   ],
   "source": [
    "s.replace(\"big\",\"great\")"
   ]
  },
  {
   "cell_type": "markdown",
   "id": "2715695e",
   "metadata": {},
   "source": [
    "# String Formatting"
   ]
  },
  {
   "cell_type": "code",
   "execution_count": 25,
   "id": "9586ed14",
   "metadata": {},
   "outputs": [
    {
     "name": "stdout",
     "output_type": "stream",
     "text": [
      "Hello, Hafsa! You are 27 years old.\n"
     ]
    }
   ],
   "source": [
    "name = \"Hafsa\"\n",
    "age = 27\n",
    "formatted_text = f\"Hello, {name}! You are {age} years old.\"\n",
    "print(formatted_text) # Output: Hello, Bob! You are 30 years old."
   ]
  },
  {
   "cell_type": "markdown",
   "id": "d5bafc54",
   "metadata": {},
   "source": [
    "# String Space Removal"
   ]
  },
  {
   "cell_type": "code",
   "execution_count": 33,
   "id": "4307aa76",
   "metadata": {},
   "outputs": [],
   "source": [
    "message = \"     Hello, World!    \""
   ]
  },
  {
   "cell_type": "markdown",
   "id": "ff19bb9c",
   "metadata": {},
   "source": [
    "### Remove all leading/trailing whitespaces"
   ]
  },
  {
   "cell_type": "code",
   "execution_count": 34,
   "id": "448a105a",
   "metadata": {},
   "outputs": [
    {
     "name": "stdout",
     "output_type": "stream",
     "text": [
      "Hello, World!\n"
     ]
    }
   ],
   "source": [
    "stripped_message = message.strip()\n",
    "print(stripped_message) # Output: Hello, World!"
   ]
  },
  {
   "cell_type": "markdown",
   "id": "3c8ebd81",
   "metadata": {},
   "source": [
    "### Remove leading whitespaces"
   ]
  },
  {
   "cell_type": "code",
   "execution_count": 35,
   "id": "b4239428",
   "metadata": {},
   "outputs": [
    {
     "name": "stdout",
     "output_type": "stream",
     "text": [
      "Hello, World!    \n"
     ]
    }
   ],
   "source": [
    "left_stripped_message = message.lstrip()\n",
    "print(left_stripped_message) # Output:Hello, World!"
   ]
  },
  {
   "cell_type": "markdown",
   "id": "2eda98c4",
   "metadata": {},
   "source": [
    "### Remove trailing whitespaces"
   ]
  },
  {
   "cell_type": "code",
   "execution_count": 36,
   "id": "ecdb1897",
   "metadata": {},
   "outputs": [
    {
     "name": "stdout",
     "output_type": "stream",
     "text": [
      "     Hello, World!\n"
     ]
    }
   ],
   "source": [
    "right_stripped_message = message.rstrip()\n",
    "print(right_stripped_message) # Hello, World!"
   ]
  },
  {
   "cell_type": "markdown",
   "id": "367bf03b",
   "metadata": {},
   "source": [
    "# String Search"
   ]
  },
  {
   "cell_type": "code",
   "execution_count": 44,
   "id": "61a3e33f",
   "metadata": {},
   "outputs": [],
   "source": [
    "message = \"Hello,Hafsa, brave new world!, Bye Hafsa!\""
   ]
  },
  {
   "cell_type": "markdown",
   "id": "6fc31487",
   "metadata": {},
   "source": [
    "### Find the index of the first occurrence of \"world\""
   ]
  },
  {
   "cell_type": "code",
   "execution_count": 46,
   "id": "01213901",
   "metadata": {},
   "outputs": [
    {
     "name": "stdout",
     "output_type": "stream",
     "text": [
      "6\n"
     ]
    }
   ],
   "source": [
    "world_index = message.find(\"Hafsa\")\n",
    "print(world_index) "
   ]
  },
  {
   "cell_type": "markdown",
   "id": "653a45de",
   "metadata": {},
   "source": [
    "### Find the index of the last occurrence of \"world\" (if it appears multiple times)\n"
   ]
  },
  {
   "cell_type": "code",
   "execution_count": 48,
   "id": "f6ac037e",
   "metadata": {},
   "outputs": [
    {
     "name": "stdout",
     "output_type": "stream",
     "text": [
      "35\n"
     ]
    }
   ],
   "source": [
    "last_world_index = message.rfind(\"Hafsa\")\n",
    "print(last_world_index) "
   ]
  },
  {
   "cell_type": "markdown",
   "id": "9938b71b",
   "metadata": {},
   "source": [
    "# String Split and Join"
   ]
  },
  {
   "cell_type": "code",
   "execution_count": 49,
   "id": "fd5747ba",
   "metadata": {},
   "outputs": [],
   "source": [
    "message = \"Hello, how are you today?\""
   ]
  },
  {
   "cell_type": "markdown",
   "id": "098224b3",
   "metadata": {},
   "source": [
    "### Split the string into words using spaces as separator"
   ]
  },
  {
   "cell_type": "code",
   "execution_count": 50,
   "id": "bd92f1b9",
   "metadata": {},
   "outputs": [
    {
     "name": "stdout",
     "output_type": "stream",
     "text": [
      "['Hello,', 'how', 'are', 'you', 'today?']\n"
     ]
    }
   ],
   "source": [
    "words = message.split(\" \")\n",
    "print(words) # Output: ['Hello,', 'how', 'are', 'you', 'today?']"
   ]
  },
  {
   "cell_type": "code",
   "execution_count": 51,
   "id": "d7ed0543",
   "metadata": {},
   "outputs": [],
   "source": [
    "message2 = \"I am Hafsa $ I'm taking your class\""
   ]
  },
  {
   "cell_type": "code",
   "execution_count": 55,
   "id": "9f028176",
   "metadata": {},
   "outputs": [
    {
     "name": "stdout",
     "output_type": "stream",
     "text": [
      "['I am Hafsa ', \" I'm taking your class\"]\n"
     ]
    }
   ],
   "source": [
    "words = message2.split(\"$\")\n",
    "print(words)"
   ]
  },
  {
   "cell_type": "markdown",
   "id": "645c8218",
   "metadata": {},
   "source": [
    "### Join the words back into a string with underscores"
   ]
  },
  {
   "cell_type": "code",
   "execution_count": 56,
   "id": "ab3271fd",
   "metadata": {},
   "outputs": [
    {
     "name": "stdout",
     "output_type": "stream",
     "text": [
      "I am Hafsa !!!!! I'm taking your class\n"
     ]
    }
   ],
   "source": [
    "joined_message = \"!!!!!\".join(words)\n",
    "print(joined_message) "
   ]
  },
  {
   "cell_type": "markdown",
   "id": "bc7f654a",
   "metadata": {},
   "source": [
    "# String Replacement"
   ]
  },
  {
   "cell_type": "code",
   "execution_count": 68,
   "id": "e21c023d",
   "metadata": {},
   "outputs": [],
   "source": [
    "message = \"Hi, this is a test string.\""
   ]
  },
  {
   "cell_type": "code",
   "execution_count": 71,
   "id": "2bbdf0a1",
   "metadata": {},
   "outputs": [
    {
     "name": "stdout",
     "output_type": "stream",
     "text": [
      "Hi, thwas was a test string.\n"
     ]
    }
   ],
   "source": [
    "# Replace all occurrences of \"is\" with \"was\"\n",
    "replaced_message = message.replace(\"is\", \"was\")\n",
    "print(replaced_message) "
   ]
  },
  {
   "cell_type": "code",
   "execution_count": 78,
   "id": "7d9e8dfd",
   "metadata": {},
   "outputs": [
    {
     "name": "stdout",
     "output_type": "stream",
     "text": [
      "Hi, thwas is a test string.\n"
     ]
    }
   ],
   "source": [
    "# Replace only the first occurrence\n",
    "replaced_message = message.replace(\"is\", \"was\", 1)\n",
    "print(replaced_message) "
   ]
  },
  {
   "cell_type": "code",
   "execution_count": null,
   "id": "b7610200",
   "metadata": {},
   "outputs": [],
   "source": []
  }
 ],
 "metadata": {
  "kernelspec": {
   "display_name": "Python 3 (ipykernel)",
   "language": "python",
   "name": "python3"
  },
  "language_info": {
   "codemirror_mode": {
    "name": "ipython",
    "version": 3
   },
   "file_extension": ".py",
   "mimetype": "text/x-python",
   "name": "python",
   "nbconvert_exporter": "python",
   "pygments_lexer": "ipython3",
   "version": "3.11.7"
  }
 },
 "nbformat": 4,
 "nbformat_minor": 5
}
