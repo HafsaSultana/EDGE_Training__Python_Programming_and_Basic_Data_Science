{
 "cells": [
  {
   "cell_type": "markdown",
   "id": "2183e618",
   "metadata": {},
   "source": [
    "# Understanding Data Types in python"
   ]
  },
  {
   "cell_type": "code",
   "execution_count": 2,
   "id": "2d34a095",
   "metadata": {},
   "outputs": [
    {
     "name": "stdout",
     "output_type": "stream",
     "text": [
      "0\n",
      "1\n",
      "2\n",
      "3\n",
      "4\n",
      "5\n",
      "6\n",
      "7\n",
      "8\n",
      "9\n"
     ]
    }
   ],
   "source": [
    "for i in range(0,10):\n",
    "    print(i)"
   ]
  },
  {
   "cell_type": "code",
   "execution_count": 4,
   "id": "3d348823",
   "metadata": {},
   "outputs": [
    {
     "data": {
      "text/plain": [
       "[0, 1, 2, 3, 4, 5, 6, 7, 8, 9]"
      ]
     },
     "execution_count": 4,
     "metadata": {},
     "output_type": "execute_result"
    }
   ],
   "source": [
    "L=list(range(10))\n",
    "L"
   ]
  },
  {
   "cell_type": "code",
   "execution_count": 13,
   "id": "5dad8ded",
   "metadata": {},
   "outputs": [
    {
     "data": {
      "text/plain": [
       "list"
      ]
     },
     "execution_count": 13,
     "metadata": {},
     "output_type": "execute_result"
    }
   ],
   "source": [
    "type(L)"
   ]
  },
  {
   "cell_type": "code",
   "execution_count": 14,
   "id": "1354965c",
   "metadata": {},
   "outputs": [
    {
     "data": {
      "text/plain": [
       "int"
      ]
     },
     "execution_count": 14,
     "metadata": {},
     "output_type": "execute_result"
    }
   ],
   "source": [
    "type(L[0])"
   ]
  },
  {
   "cell_type": "code",
   "execution_count": 10,
   "id": "a5e6a071",
   "metadata": {},
   "outputs": [
    {
     "data": {
      "text/plain": [
       "['0', '1', '2', '3', '4', '5', '6', '7', '8', '9']"
      ]
     },
     "execution_count": 10,
     "metadata": {},
     "output_type": "execute_result"
    }
   ],
   "source": [
    "L2=[str(i) for i in L]\n",
    "L2"
   ]
  },
  {
   "cell_type": "code",
   "execution_count": 15,
   "id": "70ea602c",
   "metadata": {},
   "outputs": [
    {
     "data": {
      "text/plain": [
       "str"
      ]
     },
     "execution_count": 15,
     "metadata": {},
     "output_type": "execute_result"
    }
   ],
   "source": [
    "type(L2[1])"
   ]
  },
  {
   "cell_type": "code",
   "execution_count": 16,
   "id": "15f5d26d",
   "metadata": {},
   "outputs": [
    {
     "data": {
      "text/plain": [
       "[True, '2', 3.0, 4]"
      ]
     },
     "execution_count": 16,
     "metadata": {},
     "output_type": "execute_result"
    }
   ],
   "source": [
    "L3=[True, \"2\", 3.0, 4]\n",
    "L3"
   ]
  },
  {
   "cell_type": "code",
   "execution_count": 19,
   "id": "d48018cc",
   "metadata": {},
   "outputs": [
    {
     "name": "stdout",
     "output_type": "stream",
     "text": [
      "[<class 'bool'>, <class 'str'>, <class 'float'>, <class 'int'>]\n"
     ]
    }
   ],
   "source": [
    "print([type(i) for i in L3])"
   ]
  },
  {
   "cell_type": "markdown",
   "id": "8112b492",
   "metadata": {},
   "source": [
    "# Fixed type Array"
   ]
  },
  {
   "cell_type": "code",
   "execution_count": 27,
   "id": "dce7cedf",
   "metadata": {},
   "outputs": [
    {
     "data": {
      "text/plain": [
       "array('i', [0, 1, 2, 3, 4, 5, 6, 7, 8, 9])"
      ]
     },
     "execution_count": 27,
     "metadata": {},
     "output_type": "execute_result"
    }
   ],
   "source": [
    "import array\n",
    "L = list(range(10))\n",
    "#L= [\"a\",\"b\",True, 4]\n",
    "A = array.array('i',L)\n",
    "A"
   ]
  },
  {
   "cell_type": "code",
   "execution_count": 32,
   "id": "2ff2b0ba",
   "metadata": {},
   "outputs": [],
   "source": [
    "import numpy as np"
   ]
  },
  {
   "cell_type": "code",
   "execution_count": 34,
   "id": "a00d65c8",
   "metadata": {},
   "outputs": [
    {
     "data": {
      "text/plain": [
       "array([1, 3, 6, 2, 8])"
      ]
     },
     "execution_count": 34,
     "metadata": {},
     "output_type": "execute_result"
    }
   ],
   "source": [
    "A = np.array([1,3,6,2,8])\n",
    "A"
   ]
  },
  {
   "cell_type": "code",
   "execution_count": 36,
   "id": "51266a11",
   "metadata": {},
   "outputs": [
    {
     "name": "stdout",
     "output_type": "stream",
     "text": [
      "[1.5 3.  6.  2.  8. ]\n"
     ]
    }
   ],
   "source": [
    "A = np.array([1.5,3,6,2,8], dtype=np.float32)\n",
    "print(A)"
   ]
  },
  {
   "cell_type": "markdown",
   "id": "c9974b7f",
   "metadata": {},
   "source": [
    "# Creating Arrays from Python List"
   ]
  },
  {
   "cell_type": "markdown",
   "id": "cd0cfe66",
   "metadata": {},
   "source": [
    "### nested list result for multidimentional appay"
   ]
  },
  {
   "cell_type": "code",
   "execution_count": 39,
   "id": "0d4ad447",
   "metadata": {},
   "outputs": [
    {
     "data": {
      "text/plain": [
       "array([[3, 4, 5, 6],\n",
       "       [4, 5, 6, 7],\n",
       "       [5, 6, 7, 8],\n",
       "       [6, 7, 8, 9]])"
      ]
     },
     "execution_count": 39,
     "metadata": {},
     "output_type": "execute_result"
    }
   ],
   "source": [
    "A=np.array([range(i,i+4) for i in [3,4,5,6]])\n",
    "A"
   ]
  },
  {
   "cell_type": "markdown",
   "id": "e9bb1200",
   "metadata": {},
   "source": [
    "# array initialized with zero"
   ]
  },
  {
   "cell_type": "code",
   "execution_count": 41,
   "id": "b59475e7",
   "metadata": {},
   "outputs": [
    {
     "data": {
      "text/plain": [
       "array([0, 0, 0, 0, 0, 0, 0, 0, 0, 0])"
      ]
     },
     "execution_count": 41,
     "metadata": {},
     "output_type": "execute_result"
    }
   ],
   "source": [
    "A = np.zeros(10, dtype=int)\n",
    "A"
   ]
  },
  {
   "cell_type": "markdown",
   "id": "eb952cc2",
   "metadata": {},
   "source": [
    "# array initialized with one"
   ]
  },
  {
   "cell_type": "code",
   "execution_count": 44,
   "id": "87056ead",
   "metadata": {},
   "outputs": [
    {
     "data": {
      "text/plain": [
       "array([1, 1, 1, 1, 1, 1, 1, 1, 1, 1])"
      ]
     },
     "execution_count": 44,
     "metadata": {},
     "output_type": "execute_result"
    }
   ],
   "source": [
    "A = np.ones(10, dtype=int)\n",
    "A"
   ]
  },
  {
   "cell_type": "code",
   "execution_count": 45,
   "id": "2eca656c",
   "metadata": {},
   "outputs": [
    {
     "data": {
      "text/plain": [
       "array([[1, 1, 1, 1, 1],\n",
       "       [1, 1, 1, 1, 1],\n",
       "       [1, 1, 1, 1, 1]])"
      ]
     },
     "execution_count": 45,
     "metadata": {},
     "output_type": "execute_result"
    }
   ],
   "source": [
    "A = np.ones((3,5), dtype=int)\n",
    "A"
   ]
  },
  {
   "cell_type": "code",
   "execution_count": 46,
   "id": "85319274",
   "metadata": {},
   "outputs": [
    {
     "data": {
      "text/plain": [
       "array([[1., 1., 1., 1., 1.],\n",
       "       [1., 1., 1., 1., 1.],\n",
       "       [1., 1., 1., 1., 1.]])"
      ]
     },
     "execution_count": 46,
     "metadata": {},
     "output_type": "execute_result"
    }
   ],
   "source": [
    "A = np.ones((3,5), dtype=float)\n",
    "A"
   ]
  },
  {
   "cell_type": "markdown",
   "id": "af65146a",
   "metadata": {},
   "source": [
    "# array initialized with 3.55"
   ]
  },
  {
   "cell_type": "code",
   "execution_count": 49,
   "id": "9472a354",
   "metadata": {},
   "outputs": [
    {
     "data": {
      "text/plain": [
       "array([[3.55, 3.55, 3.55, 3.55, 3.55],\n",
       "       [3.55, 3.55, 3.55, 3.55, 3.55],\n",
       "       [3.55, 3.55, 3.55, 3.55, 3.55]])"
      ]
     },
     "execution_count": 49,
     "metadata": {},
     "output_type": "execute_result"
    }
   ],
   "source": [
    "A = np.full((3,5), 3.55)\n",
    "A"
   ]
  },
  {
   "cell_type": "code",
   "execution_count": 50,
   "id": "143488a8",
   "metadata": {},
   "outputs": [
    {
     "data": {
      "text/plain": [
       "array([['444', '444', '444', '444', '444'],\n",
       "       ['444', '444', '444', '444', '444'],\n",
       "       ['444', '444', '444', '444', '444']], dtype='<U3')"
      ]
     },
     "execution_count": 50,
     "metadata": {},
     "output_type": "execute_result"
    }
   ],
   "source": [
    "A = np.full((3,5), \"444\")\n",
    "A"
   ]
  },
  {
   "cell_type": "markdown",
   "id": "ed98b004",
   "metadata": {},
   "source": [
    "#  array initialized with a linear siquence"
   ]
  },
  {
   "cell_type": "code",
   "execution_count": 52,
   "id": "558f5ef4",
   "metadata": {},
   "outputs": [
    {
     "data": {
      "text/plain": [
       "array([ 2,  4,  6,  8, 10, 12, 14, 16, 18])"
      ]
     },
     "execution_count": 52,
     "metadata": {},
     "output_type": "execute_result"
    }
   ],
   "source": [
    "A = np.arange(2,20,2)\n",
    "A"
   ]
  },
  {
   "cell_type": "code",
   "execution_count": 53,
   "id": "b766ff48",
   "metadata": {},
   "outputs": [
    {
     "data": {
      "text/plain": [
       "array([ 2. ,  4.5,  7. ,  9.5, 12. , 14.5, 17. , 19.5])"
      ]
     },
     "execution_count": 53,
     "metadata": {},
     "output_type": "execute_result"
    }
   ],
   "source": [
    "A = np.arange(2,20,2.5)\n",
    "A"
   ]
  },
  {
   "cell_type": "markdown",
   "id": "c25760c1",
   "metadata": {},
   "source": [
    "#  array initialized with evenly space maintained value "
   ]
  },
  {
   "cell_type": "code",
   "execution_count": 57,
   "id": "497973b5",
   "metadata": {},
   "outputs": [
    {
     "data": {
      "text/plain": [
       "array([ 2.,  5.,  8., 11., 14., 17., 20.])"
      ]
     },
     "execution_count": 57,
     "metadata": {},
     "output_type": "execute_result"
    }
   ],
   "source": [
    "A = np.linspace(2,20,7)\n",
    "A"
   ]
  },
  {
   "cell_type": "code",
   "execution_count": 58,
   "id": "355fc181",
   "metadata": {},
   "outputs": [
    {
     "data": {
      "text/plain": [
       "array([ 0.,  2.,  4.,  6.,  8., 10.])"
      ]
     },
     "execution_count": 58,
     "metadata": {},
     "output_type": "execute_result"
    }
   ],
   "source": [
    "A = np.linspace(0,10,6)\n",
    "A"
   ]
  },
  {
   "cell_type": "code",
   "execution_count": 59,
   "id": "a6c49650",
   "metadata": {},
   "outputs": [
    {
     "data": {
      "text/plain": [
       "array([ 0. ,  2.5,  5. ,  7.5, 10. ])"
      ]
     },
     "execution_count": 59,
     "metadata": {},
     "output_type": "execute_result"
    }
   ],
   "source": [
    "A = np.linspace(0,10,5)\n",
    "A"
   ]
  },
  {
   "cell_type": "markdown",
   "id": "fc0998d5",
   "metadata": {},
   "source": [
    "# array initialized with random variable"
   ]
  },
  {
   "cell_type": "code",
   "execution_count": 64,
   "id": "ea3cc61d",
   "metadata": {},
   "outputs": [
    {
     "data": {
      "text/plain": [
       "array([[2, 0, 7],\n",
       "       [0, 8, 9],\n",
       "       [3, 8, 5]])"
      ]
     },
     "execution_count": 64,
     "metadata": {},
     "output_type": "execute_result"
    }
   ],
   "source": [
    "A = np.random.randint(0,10, (3,3))\n",
    "A"
   ]
  },
  {
   "cell_type": "code",
   "execution_count": 67,
   "id": "2dca8563",
   "metadata": {},
   "outputs": [
    {
     "data": {
      "text/plain": [
       "array([[0.89615481, 0.14165103, 0.68816658, 0.94661776],\n",
       "       [0.48504801, 0.02172126, 0.18042084, 0.55398331],\n",
       "       [0.78125139, 0.67032124, 0.20224797, 0.10237241]])"
      ]
     },
     "execution_count": 67,
     "metadata": {},
     "output_type": "execute_result"
    }
   ],
   "source": [
    "A = np.random.random((3,4))\n",
    "A"
   ]
  },
  {
   "cell_type": "code",
   "execution_count": 68,
   "id": "d6d73fa3",
   "metadata": {},
   "outputs": [
    {
     "data": {
      "text/plain": [
       "array([[-7.99851184, -9.59110668, 10.02461475],\n",
       "       [12.65036911, -1.55100684, -0.96216458],\n",
       "       [-9.15978366,  2.09612613, -5.24346066]])"
      ]
     },
     "execution_count": 68,
     "metadata": {},
     "output_type": "execute_result"
    }
   ],
   "source": [
    "A = np.random.normal(0,10, (3,3))\n",
    "A"
   ]
  },
  {
   "cell_type": "markdown",
   "id": "08355420",
   "metadata": {},
   "source": [
    "# Create a 3*3 identity matrix"
   ]
  },
  {
   "cell_type": "code",
   "execution_count": 70,
   "id": "c51fb9cc",
   "metadata": {},
   "outputs": [
    {
     "data": {
      "text/plain": [
       "array([[1., 0., 0., 0.],\n",
       "       [0., 1., 0., 0.],\n",
       "       [0., 0., 1., 0.],\n",
       "       [0., 0., 0., 1.]])"
      ]
     },
     "execution_count": 70,
     "metadata": {},
     "output_type": "execute_result"
    }
   ],
   "source": [
    "A = np.eye(4)\n",
    "A"
   ]
  },
  {
   "cell_type": "code",
   "execution_count": 73,
   "id": "0f155a63",
   "metadata": {},
   "outputs": [],
   "source": [
    "# empty array of 4 size"
   ]
  },
  {
   "cell_type": "code",
   "execution_count": 74,
   "id": "c71f0d30",
   "metadata": {},
   "outputs": [
    {
     "data": {
      "text/plain": [
       "array([1., 1., 1., 1.])"
      ]
     },
     "execution_count": 74,
     "metadata": {},
     "output_type": "execute_result"
    }
   ],
   "source": [
    "A = np.empty(4)\n",
    "A"
   ]
  },
  {
   "cell_type": "markdown",
   "id": "8916e707",
   "metadata": {},
   "source": [
    "# numpy array attributes"
   ]
  },
  {
   "cell_type": "code",
   "execution_count": 6,
   "id": "5dcd3e8c",
   "metadata": {},
   "outputs": [],
   "source": [
    "import numpy as np\n",
    "\n",
    "np.random.seed(0)\n",
    "\n",
    "x1=np.random.randint(10, size=6)\n",
    "x2=np.random.randint(10, size=(3,4))\n",
    "x3=np.random.randint(10, size=(3,4,5))"
   ]
  },
  {
   "cell_type": "code",
   "execution_count": 74,
   "id": "8d73ca06",
   "metadata": {},
   "outputs": [
    {
     "data": {
      "text/plain": [
       "array([[3, 5, 2, 4],\n",
       "       [7, 6, 8, 8],\n",
       "       [1, 6, 7, 7]])"
      ]
     },
     "execution_count": 74,
     "metadata": {},
     "output_type": "execute_result"
    }
   ],
   "source": [
    "x2"
   ]
  },
  {
   "cell_type": "code",
   "execution_count": 8,
   "id": "cf03b5ab",
   "metadata": {},
   "outputs": [
    {
     "name": "stdout",
     "output_type": "stream",
     "text": [
      "x1 :  [5 0 3 3 7 9]\n",
      "x1 :  [[3 5 2 4]\n",
      " [7 6 8 8]\n",
      " [1 6 7 7]]\n",
      "x1 :  [[[8 1 5 9 8]\n",
      "  [9 4 3 0 3]\n",
      "  [5 0 2 3 8]\n",
      "  [1 3 3 3 7]]\n",
      "\n",
      " [[0 1 9 9 0]\n",
      "  [4 7 3 2 7]\n",
      "  [2 0 0 4 5]\n",
      "  [5 6 8 4 1]]\n",
      "\n",
      " [[4 9 8 1 1]\n",
      "  [7 9 9 3 6]\n",
      "  [7 2 0 3 5]\n",
      "  [9 4 4 6 4]]]\n"
     ]
    }
   ],
   "source": [
    "print(\"x1 : \",x1)\n",
    "print(\"x1 : \",x2)\n",
    "print(\"x1 : \",x3)"
   ]
  },
  {
   "cell_type": "code",
   "execution_count": 9,
   "id": "f4941d26",
   "metadata": {},
   "outputs": [
    {
     "name": "stdout",
     "output_type": "stream",
     "text": [
      "x3 ndim :  3\n",
      "x3 shape :  (3, 4, 5)\n",
      "x3 size :  60\n"
     ]
    }
   ],
   "source": [
    "print(\"x3 ndim : \",x3.ndim)\n",
    "print(\"x3 shape : \",x3.shape)\n",
    "print(\"x3 size : \",x3.size)"
   ]
  },
  {
   "cell_type": "code",
   "execution_count": 46,
   "id": "6295279c",
   "metadata": {},
   "outputs": [
    {
     "name": "stdout",
     "output_type": "stream",
     "text": [
      "x3 dtype :  int32\n"
     ]
    }
   ],
   "source": [
    "print(\"x3 dtype : \",x3.dtype)"
   ]
  },
  {
   "cell_type": "markdown",
   "id": "2a6fde74",
   "metadata": {},
   "source": [
    "# get array index"
   ]
  },
  {
   "cell_type": "code",
   "execution_count": 47,
   "id": "52facffa",
   "metadata": {},
   "outputs": [
    {
     "data": {
      "text/plain": [
       "3"
      ]
     },
     "execution_count": 47,
     "metadata": {},
     "output_type": "execute_result"
    }
   ],
   "source": [
    "x1[3]"
   ]
  },
  {
   "cell_type": "code",
   "execution_count": 48,
   "id": "14253920",
   "metadata": {},
   "outputs": [
    {
     "data": {
      "text/plain": [
       "7"
      ]
     },
     "execution_count": 48,
     "metadata": {},
     "output_type": "execute_result"
    }
   ],
   "source": [
    "x2[2,-1]"
   ]
  },
  {
   "cell_type": "markdown",
   "id": "7bc6cc43",
   "metadata": {},
   "source": [
    "# array slicing"
   ]
  },
  {
   "cell_type": "code",
   "execution_count": 17,
   "id": "dc901b38",
   "metadata": {},
   "outputs": [
    {
     "data": {
      "text/plain": [
       "array([5, 0, 3, 3, 7, 9])"
      ]
     },
     "execution_count": 17,
     "metadata": {},
     "output_type": "execute_result"
    }
   ],
   "source": [
    "x1"
   ]
  },
  {
   "cell_type": "code",
   "execution_count": 16,
   "id": "0e66fdd3",
   "metadata": {},
   "outputs": [
    {
     "data": {
      "text/plain": [
       "array([5, 3, 7])"
      ]
     },
     "execution_count": 16,
     "metadata": {},
     "output_type": "execute_result"
    }
   ],
   "source": [
    "x1[::2]"
   ]
  },
  {
   "cell_type": "code",
   "execution_count": 18,
   "id": "03bf93c2",
   "metadata": {},
   "outputs": [
    {
     "data": {
      "text/plain": [
       "array([5, 0, 3, 3, 7])"
      ]
     },
     "execution_count": 18,
     "metadata": {},
     "output_type": "execute_result"
    }
   ],
   "source": [
    "x1[:5]"
   ]
  },
  {
   "cell_type": "code",
   "execution_count": 20,
   "id": "8716f847",
   "metadata": {},
   "outputs": [
    {
     "data": {
      "text/plain": [
       "array([0, 3, 9])"
      ]
     },
     "execution_count": 20,
     "metadata": {},
     "output_type": "execute_result"
    }
   ],
   "source": [
    "x1[1::2]"
   ]
  },
  {
   "cell_type": "code",
   "execution_count": 21,
   "id": "726ef9d6",
   "metadata": {},
   "outputs": [],
   "source": [
    "# reverse array"
   ]
  },
  {
   "cell_type": "code",
   "execution_count": 22,
   "id": "ee93157a",
   "metadata": {},
   "outputs": [
    {
     "data": {
      "text/plain": [
       "array([9, 7, 3, 3, 0, 5])"
      ]
     },
     "execution_count": 22,
     "metadata": {},
     "output_type": "execute_result"
    }
   ],
   "source": [
    "x1[::-1]"
   ]
  },
  {
   "cell_type": "code",
   "execution_count": 23,
   "id": "7cce95bc",
   "metadata": {},
   "outputs": [
    {
     "data": {
      "text/plain": [
       "array([3, 0])"
      ]
     },
     "execution_count": 23,
     "metadata": {},
     "output_type": "execute_result"
    }
   ],
   "source": [
    "x1[3::-2]"
   ]
  },
  {
   "cell_type": "markdown",
   "id": "e0bd9d86",
   "metadata": {},
   "source": [
    "# For multidimention array slicing"
   ]
  },
  {
   "cell_type": "code",
   "execution_count": 32,
   "id": "dbda2dc6",
   "metadata": {},
   "outputs": [
    {
     "data": {
      "text/plain": [
       "array([[3, 5, 2, 4],\n",
       "       [7, 6, 8, 8],\n",
       "       [1, 6, 7, 7]])"
      ]
     },
     "execution_count": 32,
     "metadata": {},
     "output_type": "execute_result"
    }
   ],
   "source": [
    "x2"
   ]
  },
  {
   "cell_type": "code",
   "execution_count": 33,
   "id": "10a782fe",
   "metadata": {},
   "outputs": [
    {
     "data": {
      "text/plain": [
       "array([[3, 5, 2],\n",
       "       [7, 6, 8]])"
      ]
     },
     "execution_count": 33,
     "metadata": {},
     "output_type": "execute_result"
    }
   ],
   "source": [
    "x2[:2,:3]"
   ]
  },
  {
   "cell_type": "code",
   "execution_count": 34,
   "id": "507aa36d",
   "metadata": {},
   "outputs": [
    {
     "data": {
      "text/plain": [
       "array([[3, 2],\n",
       "       [7, 8],\n",
       "       [1, 7]])"
      ]
     },
     "execution_count": 34,
     "metadata": {},
     "output_type": "execute_result"
    }
   ],
   "source": [
    "x2[:3, ::2]"
   ]
  },
  {
   "cell_type": "code",
   "execution_count": 35,
   "id": "9cda07f0",
   "metadata": {},
   "outputs": [
    {
     "data": {
      "text/plain": [
       "array([[3, 2],\n",
       "       [7, 8],\n",
       "       [1, 7]])"
      ]
     },
     "execution_count": 35,
     "metadata": {},
     "output_type": "execute_result"
    }
   ],
   "source": [
    "x2[:, ::2]"
   ]
  },
  {
   "cell_type": "markdown",
   "id": "760a8325",
   "metadata": {},
   "source": [
    "# reverse multidimention array"
   ]
  },
  {
   "cell_type": "code",
   "execution_count": 42,
   "id": "f4cd7656",
   "metadata": {},
   "outputs": [
    {
     "data": {
      "text/plain": [
       "array([[7, 7, 6, 1],\n",
       "       [8, 8, 6, 7],\n",
       "       [4, 2, 5, 3]])"
      ]
     },
     "execution_count": 42,
     "metadata": {},
     "output_type": "execute_result"
    }
   ],
   "source": [
    "x2[::-1, ::-1]"
   ]
  },
  {
   "cell_type": "code",
   "execution_count": 43,
   "id": "6804ef21",
   "metadata": {},
   "outputs": [
    {
     "data": {
      "text/plain": [
       "array([3, 7, 1])"
      ]
     },
     "execution_count": 43,
     "metadata": {},
     "output_type": "execute_result"
    }
   ],
   "source": [
    "x2[:,0] # first column of x2"
   ]
  },
  {
   "cell_type": "code",
   "execution_count": 44,
   "id": "8b4373bd",
   "metadata": {},
   "outputs": [
    {
     "data": {
      "text/plain": [
       "array([3, 5, 2, 4])"
      ]
     },
     "execution_count": 44,
     "metadata": {},
     "output_type": "execute_result"
    }
   ],
   "source": [
    "x2[0,:] # first row of x2"
   ]
  },
  {
   "cell_type": "markdown",
   "id": "1725c8b4",
   "metadata": {},
   "source": [
    "#  Copy views"
   ]
  },
  {
   "cell_type": "code",
   "execution_count": 72,
   "id": "978dacb8",
   "metadata": {},
   "outputs": [
    {
     "data": {
      "text/plain": [
       "array([[3, 5, 2, 4],\n",
       "       [7, 6, 8, 8],\n",
       "       [1, 6, 7, 7]])"
      ]
     },
     "execution_count": 72,
     "metadata": {},
     "output_type": "execute_result"
    }
   ],
   "source": [
    "x2=np.array([[3, 5, 2, 4],\n",
    "       [7, 6, 8, 8],\n",
    "       [1, 6, 7, 7]])\n",
    "x2"
   ]
  },
  {
   "cell_type": "code",
   "execution_count": 73,
   "id": "78395e0e",
   "metadata": {},
   "outputs": [
    {
     "data": {
      "text/plain": [
       "array([[3, 5],\n",
       "       [7, 6]])"
      ]
     },
     "execution_count": 73,
     "metadata": {},
     "output_type": "execute_result"
    }
   ],
   "source": [
    "subx2 = x2[:2,:2]\n",
    "subx2"
   ]
  },
  {
   "cell_type": "code",
   "execution_count": 65,
   "id": "45172a0b",
   "metadata": {},
   "outputs": [
    {
     "data": {
      "text/plain": [
       "array([[999,   5],\n",
       "       [  7,   6]])"
      ]
     },
     "execution_count": 65,
     "metadata": {},
     "output_type": "execute_result"
    }
   ],
   "source": [
    "subx2[0,0] = 999\n",
    "subx2"
   ]
  },
  {
   "cell_type": "code",
   "execution_count": 66,
   "id": "498403cb",
   "metadata": {},
   "outputs": [
    {
     "data": {
      "text/plain": [
       "array([[999,   5,   2,   4],\n",
       "       [  7,   6,   8,   8],\n",
       "       [  1,   6,   7,   7]])"
      ]
     },
     "execution_count": 66,
     "metadata": {},
     "output_type": "execute_result"
    }
   ],
   "source": [
    "x2  # change main array"
   ]
  },
  {
   "cell_type": "markdown",
   "id": "22551f0c",
   "metadata": {},
   "source": [
    "### copy sub array"
   ]
  },
  {
   "cell_type": "code",
   "execution_count": 68,
   "id": "a3bf8d96",
   "metadata": {},
   "outputs": [
    {
     "data": {
      "text/plain": [
       "array([[999,   5],\n",
       "       [  7,   6]])"
      ]
     },
     "execution_count": 68,
     "metadata": {},
     "output_type": "execute_result"
    }
   ],
   "source": [
    "subx2 = x2[:2,:2].copy()\n",
    "subx2"
   ]
  },
  {
   "cell_type": "code",
   "execution_count": 70,
   "id": "83604230",
   "metadata": {},
   "outputs": [
    {
     "data": {
      "text/plain": [
       "array([[9999999,       5],\n",
       "       [      7,       6]])"
      ]
     },
     "execution_count": 70,
     "metadata": {},
     "output_type": "execute_result"
    }
   ],
   "source": [
    "subx2[0,0] = 9999999\n",
    "subx2"
   ]
  },
  {
   "cell_type": "code",
   "execution_count": 71,
   "id": "e5a9a5af",
   "metadata": {},
   "outputs": [
    {
     "data": {
      "text/plain": [
       "array([[999,   5,   2,   4],\n",
       "       [  7,   6,   8,   8],\n",
       "       [  1,   6,   7,   7]])"
      ]
     },
     "execution_count": 71,
     "metadata": {},
     "output_type": "execute_result"
    }
   ],
   "source": [
    "x2"
   ]
  },
  {
   "cell_type": "markdown",
   "id": "25a90a53",
   "metadata": {},
   "source": [
    "# create array"
   ]
  },
  {
   "cell_type": "code",
   "execution_count": 76,
   "id": "cfe588e3",
   "metadata": {},
   "outputs": [
    {
     "name": "stdout",
     "output_type": "stream",
     "text": [
      "[[2 2 2 2 2 2 2]\n",
      " [3 3 3 3 3 3 3]\n",
      " [2 3 4 5 6 8 9]]\n"
     ]
    }
   ],
   "source": [
    "L1=[2,2,2,2,2,2,2]\n",
    "L2=[3,3,3,3,3,3,3]\n",
    "L3=[2,3,4,5,6,8,9]\n",
    "Arr = np.array([L1,L2,L3])\n",
    "\n",
    "print(Arr)"
   ]
  },
  {
   "cell_type": "code",
   "execution_count": null,
   "id": "d2d76dcd",
   "metadata": {},
   "outputs": [],
   "source": []
  }
 ],
 "metadata": {
  "kernelspec": {
   "display_name": "Python 3 (ipykernel)",
   "language": "python",
   "name": "python3"
  },
  "language_info": {
   "codemirror_mode": {
    "name": "ipython",
    "version": 3
   },
   "file_extension": ".py",
   "mimetype": "text/x-python",
   "name": "python",
   "nbconvert_exporter": "python",
   "pygments_lexer": "ipython3",
   "version": "3.11.7"
  }
 },
 "nbformat": 4,
 "nbformat_minor": 5
}
