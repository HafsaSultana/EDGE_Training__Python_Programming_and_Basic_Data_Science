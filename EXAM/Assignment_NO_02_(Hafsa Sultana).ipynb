{
  "nbformat": 4,
  "nbformat_minor": 0,
  "metadata": {
    "colab": {
      "provenance": []
    },
    "kernelspec": {
      "name": "python3",
      "display_name": "Python 3"
    },
    "language_info": {
      "name": "python"
    }
  },
  "cells": [
    {
      "cell_type": "markdown",
      "source": [
        "# **Assignment NO-02 (PANDAS and Machine Leaning)**"
      ],
      "metadata": {
        "id": "Ai-o-S8EsVPW"
      }
    },
    {
      "cell_type": "markdown",
      "source": [
        "## **Questions**:\n",
        "\n",
        "1. Create a DataFrame with random data and select rows where column 'A' value is greater than 50.\n",
        "\n",
        "2. Add a new column to the DataFrame based on the condition of another column and fill missing values in that column with the mean of the column.\n",
        "\n",
        "3. Load a CSV file, group by a column, and calculate the mean of another column.\n",
        "\n",
        "4. Split the Iris dataset into training and test sets (80% train, 20% test), and train a Support Vector Machine (SVM) classifier. Display the test accuracy.\n",
        "\n",
        "5. Train a Random Forest classifier using the LFW dataset (face detection data) with a train-test split. Display the test accuracy."
      ],
      "metadata": {
        "id": "ymSaGtA5ud7h"
      }
    },
    {
      "cell_type": "markdown",
      "source": [
        "## **Solutions**:"
      ],
      "metadata": {
        "id": "ifpKfadIu-D4"
      }
    },
    {
      "cell_type": "markdown",
      "source": [
        "1. Create a DataFrame with random data and select rows where column 'A' value is greater than 50.\n",
        "\n",
        "**Solution 1**:"
      ],
      "metadata": {
        "id": "FlqhhqA5vVdM"
      }
    },
    {
      "cell_type": "code",
      "execution_count": 3,
      "metadata": {
        "colab": {
          "base_uri": "https://localhost:8080/"
        },
        "id": "mfQZdx6JsNXE",
        "outputId": "7be0b400-71a6-4615-c522-dc0550edc120"
      },
      "outputs": [
        {
          "output_type": "stream",
          "name": "stdout",
          "text": [
            "   Math  English  Physics\n",
            "1    96       75       63\n",
            "2    56       78       81\n",
            "3    91        8       11\n",
            "6    79       96       99\n",
            "7    52       12       37\n",
            "8    81       31       61\n",
            "9    63        5       90\n"
          ]
        }
      ],
      "source": [
        "import pandas as pd\n",
        "import numpy as np\n",
        "\n",
        "# Create a DataFrame with random integers\n",
        "df = pd.DataFrame(np.random.randint(1, 100, size=(10, 3)), columns=['Math', 'English', 'Physics'])\n",
        "\n",
        "# Select rows where the value in column 'A' is greater than 50\n",
        "filtered_df = df[df['Math'] > 50]\n",
        "\n",
        "# Display the filtered DataFrame\n",
        "print(filtered_df)\n"
      ]
    },
    {
      "cell_type": "markdown",
      "source": [
        "2. Add a new column to the DataFrame based on the condition of another column and fill missing values in that column with the mean of the column.\n",
        "\n",
        "**Solution 2**:"
      ],
      "metadata": {
        "id": "JYxf5NyEvjzX"
      }
    },
    {
      "cell_type": "code",
      "source": [
        "import pandas as pd\n",
        "import numpy as np\n",
        "\n",
        "# Create a DataFrame with random integers, including NaN values\n",
        "df = pd.DataFrame(np.random.randint(1, 100, size=(10, 3)), columns=['Math', 'English', 'Physics'])\n",
        "df.loc[2, 'English'] = np.nan  # Introduce a missing value\n",
        "\n",
        "# Add a new column 'NewColumn' based on a condition of column 'B'\n",
        "df['Programming'] = np.where(df['English'] > 50, 'High', 'Low')\n",
        "\n",
        "# Fill missing values in column 'B' with its mean\n",
        "df['English'].fillna(df['English'].mean(), inplace=True)\n",
        "\n",
        "# Display the updated DataFrame\n",
        "print(df)\n"
      ],
      "metadata": {
        "colab": {
          "base_uri": "https://localhost:8080/"
        },
        "id": "L2FF_K_3vgD0",
        "outputId": "58d3b30b-98b1-4aa8-db21-ae8c392d498e"
      },
      "execution_count": 6,
      "outputs": [
        {
          "output_type": "stream",
          "name": "stdout",
          "text": [
            "   Math    English  Physics Programming\n",
            "0    22  54.000000        8        High\n",
            "1    89  51.000000       72        High\n",
            "2    39  45.666667       17         Low\n",
            "3    71  31.000000       64         Low\n",
            "4    89  90.000000       95        High\n",
            "5    34   1.000000       70         Low\n",
            "6    80  30.000000       14         Low\n",
            "7    51  72.000000       44        High\n",
            "8     7  47.000000       17         Low\n",
            "9    34  35.000000       46         Low\n"
          ]
        }
      ]
    },
    {
      "cell_type": "markdown",
      "source": [
        "3. Load a CSV file, group by a column, and calculate the mean of another column.\n",
        "\n",
        "**Solution 3**:"
      ],
      "metadata": {
        "id": "Ps0waoA-wem6"
      }
    },
    {
      "cell_type": "code",
      "source": [
        "import pandas as pd\n",
        "\n",
        "# Load data from a CSV file\n",
        "df = pd.read_csv('file.csv')\n",
        "\n",
        "# Group by the 'Category' column and calculate the mean of 'Value' column\n",
        "mean_values = df.groupby('Category')['Value'].mean()\n",
        "\n",
        "# Display the mean values for each group\n",
        "print(mean_values)\n"
      ],
      "metadata": {
        "id": "lJyknD3VwCsZ"
      },
      "execution_count": 9,
      "outputs": []
    },
    {
      "cell_type": "markdown",
      "source": [
        "4. Split the Iris dataset into training and test sets (80% train, 20% test), and train a Support Vector Machine (SVM) classifier. Display the test accuracy.\n",
        "\n",
        "**Solution 4**:"
      ],
      "metadata": {
        "id": "MjOwPAhTxKRW"
      }
    },
    {
      "cell_type": "code",
      "source": [
        "from sklearn import datasets\n",
        "from sklearn.model_selection import train_test_split\n",
        "from sklearn.svm import SVC\n",
        "\n",
        "# Load the Iris dataset\n",
        "iris = datasets.load_iris()\n",
        "X, y = iris.data, iris.target\n",
        "\n",
        "# Split the dataset into 80% training and 20% test sets\n",
        "X_train, X_test, y_train, y_test = train_test_split(X, y, test_size=0.20, random_state=42)\n",
        "\n",
        "# Train a Support Vector Machine classifier\n",
        "svm_clf = SVC()\n",
        "svm_clf.fit(X_train, y_train)\n",
        "\n",
        "# Evaluate and display the accuracy on the test set\n",
        "print(f\"SVM Test Accuracy: {svm_clf.score(X_test, y_test):.2f}\")\n"
      ],
      "metadata": {
        "colab": {
          "base_uri": "https://localhost:8080/"
        },
        "id": "ZsfYCPJMwnOk",
        "outputId": "3ddee746-40cc-4ea3-b52a-4072c095b9e1"
      },
      "execution_count": 10,
      "outputs": [
        {
          "output_type": "stream",
          "name": "stdout",
          "text": [
            "SVM Test Accuracy: 1.00\n"
          ]
        }
      ]
    },
    {
      "cell_type": "markdown",
      "source": [
        "5. Train a Random Forest classifier using the LFW dataset (face detection data) with a train-test split. Display the test accuracy.\n",
        "\n",
        "**Solution 5**:"
      ],
      "metadata": {
        "id": "0Eez5huIxVWb"
      }
    },
    {
      "cell_type": "code",
      "source": [
        "from sklearn.datasets import fetch_lfw_people\n",
        "from sklearn.ensemble import RandomForestClassifier\n",
        "from sklearn.model_selection import train_test_split\n",
        "\n",
        "# Load the LFW dataset (faces of people)\n",
        "data = fetch_lfw_people(min_faces_per_person=70)\n",
        "\n",
        "# Split the dataset into training and test sets (75% train, 25% test)\n",
        "X_train, X_test, y_train, y_test = train_test_split(data.data, data.target, test_size=0.25, random_state=42)\n",
        "\n",
        "# Train a Random Forest classifier on the training data\n",
        "rf_clf = RandomForestClassifier()\n",
        "rf_clf.fit(X_train, y_train)\n",
        "\n",
        "# Evaluate and display the accuracy on the test set\n",
        "print(f\"Random Forest Test Accuracy: {rf_clf.score(X_test, y_test):.2f}\")\n"
      ],
      "metadata": {
        "colab": {
          "base_uri": "https://localhost:8080/"
        },
        "id": "trt9sLUYxUEZ",
        "outputId": "eb99e5df-233d-46fb-e5be-4959006f7373"
      },
      "execution_count": 11,
      "outputs": [
        {
          "output_type": "stream",
          "name": "stdout",
          "text": [
            "Random Forest Test Accuracy: 0.67\n"
          ]
        }
      ]
    },
    {
      "cell_type": "code",
      "source": [],
      "metadata": {
        "id": "zRGFbRrnxbYC"
      },
      "execution_count": null,
      "outputs": []
    }
  ]
}