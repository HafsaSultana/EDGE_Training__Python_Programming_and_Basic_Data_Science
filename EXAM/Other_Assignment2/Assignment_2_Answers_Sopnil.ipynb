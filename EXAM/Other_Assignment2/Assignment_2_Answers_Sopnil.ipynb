{
 "cells": [
  {
   "cell_type": "markdown",
   "metadata": {},
   "source": [
    "#### This file contains the problem statements and their solutuions for the assignment task given in Assignment **2**."
   ]
  },
  {
   "cell_type": "markdown",
   "metadata": {},
   "source": [
    "**Based on this dataframe answer the following 3 questions.**"
   ]
  },
  {
   "cell_type": "code",
   "execution_count": 13,
   "metadata": {},
   "outputs": [],
   "source": [
    "\n",
    "import pandas as pd\n",
    "data = {\n",
    "    \"OrderID\": [101, 102, 103, 104, 105, 106, 107, 108, 109, 110],\n",
    "    \"CustomerName\": [\"Alice Smith\", \"Bob Johnson\", \"Charlie King\", \"Dana Lee\", \"Eva Davis\",\n",
    "                     \"Frank Brown\", \"Grace Miller\", \"Henry Wilson\", \"Ivy Thomas\", \"Jack Moore\"],\n",
    "    \"Product\": [\"Wireless Mouse\", \"Desk Lamp\", \"Coffee Mug\", \"Office Chair\", \"HDMI Cable\",\n",
    "                \"Notebook\", \"Bluetooth Speaker\", \"Water Bottle\", \"Monitor Stand\", \"Stapler\"],\n",
    "    \"Category\": [\"Electronics\", \"Furniture\", \"Kitchen\", \"Furniture\", \"Electronics\",\n",
    "                 \"Stationery\", \"Electronics\", \"Kitchen\", \"Electronics\", \"Stationery\"],\n",
    "    \"Quantity\": [2, 1, 4, 1, 3, 5, 1, 2, 1, 3],\n",
    "    \"Price\": [25.99, 45.50, 9.99, 199.99, 14.99, 3.49, 49.99, 12.99, 89.99, 5.99],\n",
    "    \"OrderDate\": [\"2024-08-01\", \"2024-08-02\", \"2024-08-03\", \"2024-08-04\",\n",
    "                                 \"2024-08-05\", \"2024-08-06\", \"2024-08-07\", \"2024-08-08\",\n",
    "                                 \"2024-08-09\", \"2024-08-10\"],\n",
    "    \"City\": [\"New York\", \"Los Angeles\", \"Chicago\", \"Houston\", \"Phoenix\", \"Dallas\",\n",
    "             \"New York\", \"Los Angeles\", \"Chicago\", \"Houston\"],\n",
    "    \"PaymentMethod\": [\"Credit Card\", \"PayPal\", \"Debit Card\", \"Credit Card\", \"PayPal\",\n",
    "                      \"Credit Card\", \"Debit Card\", \"PayPal\", \"Credit Card\", \"Debit Card\"],\n",
    "    \"Discount\": [0.1, 0.15, 0, 0.2, 0, 0.05, 0.1, 0.2, 0.1, 0.05]\n",
    "}\n",
    "\n",
    "df = pd.DataFrame(data)"
   ]
  },
  {
   "cell_type": "code",
   "execution_count": 12,
   "metadata": {},
   "outputs": [
    {
     "data": {
      "text/html": [
       "<div>\n",
       "<style scoped>\n",
       "    .dataframe tbody tr th:only-of-type {\n",
       "        vertical-align: middle;\n",
       "    }\n",
       "\n",
       "    .dataframe tbody tr th {\n",
       "        vertical-align: top;\n",
       "    }\n",
       "\n",
       "    .dataframe thead th {\n",
       "        text-align: right;\n",
       "    }\n",
       "</style>\n",
       "<table border=\"1\" class=\"dataframe\">\n",
       "  <thead>\n",
       "    <tr style=\"text-align: right;\">\n",
       "      <th></th>\n",
       "      <th>OrderID</th>\n",
       "      <th>CustomerName</th>\n",
       "      <th>Product</th>\n",
       "      <th>Category</th>\n",
       "      <th>Quantity</th>\n",
       "      <th>Price</th>\n",
       "      <th>OrderDate</th>\n",
       "      <th>City</th>\n",
       "      <th>PaymentMethod</th>\n",
       "      <th>Discount</th>\n",
       "    </tr>\n",
       "  </thead>\n",
       "  <tbody>\n",
       "    <tr>\n",
       "      <th>0</th>\n",
       "      <td>101</td>\n",
       "      <td>Alice Smith</td>\n",
       "      <td>Wireless Mouse</td>\n",
       "      <td>Electronics</td>\n",
       "      <td>2</td>\n",
       "      <td>25.99</td>\n",
       "      <td>2024-08-01</td>\n",
       "      <td>New York</td>\n",
       "      <td>Credit Card</td>\n",
       "      <td>0.10</td>\n",
       "    </tr>\n",
       "    <tr>\n",
       "      <th>1</th>\n",
       "      <td>102</td>\n",
       "      <td>Bob Johnson</td>\n",
       "      <td>Desk Lamp</td>\n",
       "      <td>Furniture</td>\n",
       "      <td>1</td>\n",
       "      <td>45.50</td>\n",
       "      <td>2024-08-02</td>\n",
       "      <td>Los Angeles</td>\n",
       "      <td>PayPal</td>\n",
       "      <td>0.15</td>\n",
       "    </tr>\n",
       "    <tr>\n",
       "      <th>2</th>\n",
       "      <td>103</td>\n",
       "      <td>Charlie King</td>\n",
       "      <td>Coffee Mug</td>\n",
       "      <td>Kitchen</td>\n",
       "      <td>4</td>\n",
       "      <td>9.99</td>\n",
       "      <td>2024-08-03</td>\n",
       "      <td>Chicago</td>\n",
       "      <td>Debit Card</td>\n",
       "      <td>0.00</td>\n",
       "    </tr>\n",
       "    <tr>\n",
       "      <th>3</th>\n",
       "      <td>104</td>\n",
       "      <td>Dana Lee</td>\n",
       "      <td>Office Chair</td>\n",
       "      <td>Furniture</td>\n",
       "      <td>1</td>\n",
       "      <td>199.99</td>\n",
       "      <td>2024-08-04</td>\n",
       "      <td>Houston</td>\n",
       "      <td>Credit Card</td>\n",
       "      <td>0.20</td>\n",
       "    </tr>\n",
       "    <tr>\n",
       "      <th>4</th>\n",
       "      <td>105</td>\n",
       "      <td>Eva Davis</td>\n",
       "      <td>HDMI Cable</td>\n",
       "      <td>Electronics</td>\n",
       "      <td>3</td>\n",
       "      <td>14.99</td>\n",
       "      <td>2024-08-05</td>\n",
       "      <td>Phoenix</td>\n",
       "      <td>PayPal</td>\n",
       "      <td>0.00</td>\n",
       "    </tr>\n",
       "    <tr>\n",
       "      <th>5</th>\n",
       "      <td>106</td>\n",
       "      <td>Frank Brown</td>\n",
       "      <td>Notebook</td>\n",
       "      <td>Stationery</td>\n",
       "      <td>5</td>\n",
       "      <td>3.49</td>\n",
       "      <td>2024-08-06</td>\n",
       "      <td>Dallas</td>\n",
       "      <td>Credit Card</td>\n",
       "      <td>0.05</td>\n",
       "    </tr>\n",
       "    <tr>\n",
       "      <th>6</th>\n",
       "      <td>107</td>\n",
       "      <td>Grace Miller</td>\n",
       "      <td>Bluetooth Speaker</td>\n",
       "      <td>Electronics</td>\n",
       "      <td>1</td>\n",
       "      <td>49.99</td>\n",
       "      <td>2024-08-07</td>\n",
       "      <td>New York</td>\n",
       "      <td>Debit Card</td>\n",
       "      <td>0.10</td>\n",
       "    </tr>\n",
       "    <tr>\n",
       "      <th>7</th>\n",
       "      <td>108</td>\n",
       "      <td>Henry Wilson</td>\n",
       "      <td>Water Bottle</td>\n",
       "      <td>Kitchen</td>\n",
       "      <td>2</td>\n",
       "      <td>12.99</td>\n",
       "      <td>2024-08-08</td>\n",
       "      <td>Los Angeles</td>\n",
       "      <td>PayPal</td>\n",
       "      <td>0.20</td>\n",
       "    </tr>\n",
       "    <tr>\n",
       "      <th>8</th>\n",
       "      <td>109</td>\n",
       "      <td>Ivy Thomas</td>\n",
       "      <td>Monitor Stand</td>\n",
       "      <td>Electronics</td>\n",
       "      <td>1</td>\n",
       "      <td>89.99</td>\n",
       "      <td>2024-08-09</td>\n",
       "      <td>Chicago</td>\n",
       "      <td>Credit Card</td>\n",
       "      <td>0.10</td>\n",
       "    </tr>\n",
       "    <tr>\n",
       "      <th>9</th>\n",
       "      <td>110</td>\n",
       "      <td>Jack Moore</td>\n",
       "      <td>Stapler</td>\n",
       "      <td>Stationery</td>\n",
       "      <td>3</td>\n",
       "      <td>5.99</td>\n",
       "      <td>2024-08-10</td>\n",
       "      <td>Houston</td>\n",
       "      <td>Debit Card</td>\n",
       "      <td>0.05</td>\n",
       "    </tr>\n",
       "  </tbody>\n",
       "</table>\n",
       "</div>"
      ],
      "text/plain": [
       "   OrderID  CustomerName            Product     Category  Quantity   Price  \\\n",
       "0      101   Alice Smith     Wireless Mouse  Electronics         2   25.99   \n",
       "1      102   Bob Johnson          Desk Lamp    Furniture         1   45.50   \n",
       "2      103  Charlie King         Coffee Mug      Kitchen         4    9.99   \n",
       "3      104      Dana Lee       Office Chair    Furniture         1  199.99   \n",
       "4      105     Eva Davis         HDMI Cable  Electronics         3   14.99   \n",
       "5      106   Frank Brown           Notebook   Stationery         5    3.49   \n",
       "6      107  Grace Miller  Bluetooth Speaker  Electronics         1   49.99   \n",
       "7      108  Henry Wilson       Water Bottle      Kitchen         2   12.99   \n",
       "8      109    Ivy Thomas      Monitor Stand  Electronics         1   89.99   \n",
       "9      110    Jack Moore            Stapler   Stationery         3    5.99   \n",
       "\n",
       "   OrderDate         City PaymentMethod  Discount  \n",
       "0 2024-08-01     New York   Credit Card      0.10  \n",
       "1 2024-08-02  Los Angeles        PayPal      0.15  \n",
       "2 2024-08-03      Chicago    Debit Card      0.00  \n",
       "3 2024-08-04      Houston   Credit Card      0.20  \n",
       "4 2024-08-05      Phoenix        PayPal      0.00  \n",
       "5 2024-08-06       Dallas   Credit Card      0.05  \n",
       "6 2024-08-07     New York    Debit Card      0.10  \n",
       "7 2024-08-08  Los Angeles        PayPal      0.20  \n",
       "8 2024-08-09      Chicago   Credit Card      0.10  \n",
       "9 2024-08-10      Houston    Debit Card      0.05  "
      ]
     },
     "execution_count": 12,
     "metadata": {},
     "output_type": "execute_result"
    }
   ],
   "source": [
    "df"
   ]
  },
  {
   "cell_type": "markdown",
   "metadata": {},
   "source": [
    "**1.Extract all orders made in August 2024 (from the ``OrderDate`` column). How many such orders are there?**"
   ]
  },
  {
   "cell_type": "code",
   "execution_count": 17,
   "metadata": {},
   "outputs": [
    {
     "name": "stdout",
     "output_type": "stream",
     "text": [
      "Solution 1\n",
      "    OrderID  CustomerName            Product     Category  Quantity   Price  \\\n",
      "0      101   Alice Smith     Wireless Mouse  Electronics         2   25.99   \n",
      "1      102   Bob Johnson          Desk Lamp    Furniture         1   45.50   \n",
      "2      103  Charlie King         Coffee Mug      Kitchen         4    9.99   \n",
      "3      104      Dana Lee       Office Chair    Furniture         1  199.99   \n",
      "4      105     Eva Davis         HDMI Cable  Electronics         3   14.99   \n",
      "5      106   Frank Brown           Notebook   Stationery         5    3.49   \n",
      "6      107  Grace Miller  Bluetooth Speaker  Electronics         1   49.99   \n",
      "7      108  Henry Wilson       Water Bottle      Kitchen         2   12.99   \n",
      "8      109    Ivy Thomas      Monitor Stand  Electronics         1   89.99   \n",
      "9      110    Jack Moore            Stapler   Stationery         3    5.99   \n",
      "\n",
      "    OrderDate         City PaymentMethod  Discount  \n",
      "0  2024-08-01     New York   Credit Card      0.10  \n",
      "1  2024-08-02  Los Angeles        PayPal      0.15  \n",
      "2  2024-08-03      Chicago    Debit Card      0.00  \n",
      "3  2024-08-04      Houston   Credit Card      0.20  \n",
      "4  2024-08-05      Phoenix        PayPal      0.00  \n",
      "5  2024-08-06       Dallas   Credit Card      0.05  \n",
      "6  2024-08-07     New York    Debit Card      0.10  \n",
      "7  2024-08-08  Los Angeles        PayPal      0.20  \n",
      "8  2024-08-09      Chicago   Credit Card      0.10  \n",
      "9  2024-08-10      Houston    Debit Card      0.05   \n",
      "\n",
      "Total Orders in August 2024: 10 \n",
      "\n"
     ]
    }
   ],
   "source": [
    "result1 = df[pd.to_datetime(df[\"OrderDate\"]).dt.month == 8]\n",
    "print(\"Solution 1\\n\", result1, \"\\n\")\n",
    "print(\"Total Orders in August 2024:\", len(result1), \"\\n\")"
   ]
  },
  {
   "cell_type": "markdown",
   "metadata": {},
   "source": [
    "**2. Find all orders where the total amount spent (calculated as `Quantity * Price`) is greater than 100. Display the `OrderID`, `CustomerName`, `TotalAmount`, and `PaymentMethod`.**"
   ]
  },
  {
   "cell_type": "code",
   "execution_count": 18,
   "metadata": {},
   "outputs": [
    {
     "name": "stdout",
     "output_type": "stream",
     "text": [
      "Soluton 2:\n",
      "    OrderID CustomerName  TotalAmount PaymentMethod\n",
      "3      104     Dana Lee       199.99   Credit Card \n",
      "\n"
     ]
    }
   ],
   "source": [
    "df[\"TotalAmount\"] = df[\"Quantity\"] * df[\"Price\"]\n",
    "result2 = df[df[\"TotalAmount\"] > 100][[\"OrderID\", \"CustomerName\", \"TotalAmount\", \"PaymentMethod\"]]\n",
    "print(\"Soluton 2:\\n\", result2, \"\\n\")"
   ]
  },
  {
   "cell_type": "markdown",
   "metadata": {},
   "source": [
    "**3. Suppose some entries have a missing `Discount` value (fill them with `NaN`). Find all rows where the `Discount` is missing and replace those missing values with the average discount of the entire dataset. Display the modified DataFrame.**"
   ]
  },
  {
   "cell_type": "code",
   "execution_count": 22,
   "metadata": {},
   "outputs": [
    {
     "name": "stdout",
     "output_type": "stream",
     "text": [
      "Solution 3 (after filling missing discounts):\n",
      "    OrderID  CustomerName            Product     Category  Quantity   Price  \\\n",
      "0      101   Alice Smith     Wireless Mouse  Electronics         2   25.99   \n",
      "1      102   Bob Johnson          Desk Lamp    Furniture         1   45.50   \n",
      "2      103  Charlie King         Coffee Mug      Kitchen         4    9.99   \n",
      "3      104      Dana Lee       Office Chair    Furniture         1  199.99   \n",
      "4      105     Eva Davis         HDMI Cable  Electronics         3   14.99   \n",
      "5      106   Frank Brown           Notebook   Stationery         5    3.49   \n",
      "6      107  Grace Miller  Bluetooth Speaker  Electronics         1   49.99   \n",
      "7      108  Henry Wilson       Water Bottle      Kitchen         2   12.99   \n",
      "8      109    Ivy Thomas      Monitor Stand  Electronics         1   89.99   \n",
      "9      110    Jack Moore            Stapler   Stationery         3    5.99   \n",
      "\n",
      "    OrderDate         City PaymentMethod  Discount  TotalAmount  \n",
      "0  2024-08-01     New York   Credit Card  0.100000        51.98  \n",
      "1  2024-08-02  Los Angeles        PayPal  0.150000        45.50  \n",
      "2  2024-08-03      Chicago    Debit Card  0.105556        39.96  \n",
      "3  2024-08-04      Houston   Credit Card  0.200000       199.99  \n",
      "4  2024-08-05      Phoenix        PayPal  0.000000        44.97  \n",
      "5  2024-08-06       Dallas   Credit Card  0.050000        17.45  \n",
      "6  2024-08-07     New York    Debit Card  0.100000        49.99  \n",
      "7  2024-08-08  Los Angeles        PayPal  0.200000        25.98  \n",
      "8  2024-08-09      Chicago   Credit Card  0.100000        89.99  \n",
      "9  2024-08-10      Houston    Debit Card  0.050000        17.97   \n",
      "\n"
     ]
    }
   ],
   "source": [
    "import numpy as np\n",
    "df.loc[2, \"Discount\"] = np.nan  # Introducing a missing value in row index 2 for demonstration\n",
    "average_discount = df[\"Discount\"].mean()\n",
    "df[\"Discount\"] = df[\"Discount\"].fillna(average_discount)\n",
    "print(\"Solution 3 (after filling missing discounts):\\n\", df, \"\\n\")"
   ]
  },
  {
   "cell_type": "markdown",
   "metadata": {},
   "source": [
    "**Answer next questions based on the iris dataset. Load the dataset first.**"
   ]
  },
  {
   "cell_type": "markdown",
   "metadata": {},
   "source": [
    "**4. Split the Iris dataset into training and test sets with 75% of the data for training and 25% for testing. Print the number of samples in each set.**"
   ]
  },
  {
   "cell_type": "code",
   "execution_count": 27,
   "metadata": {},
   "outputs": [],
   "source": [
    "import pandas as pd\n",
    "from sklearn.datasets import load_iris\n",
    "from sklearn.model_selection import train_test_split\n",
    "from sklearn.svm import SVC\n",
    "# Load Iris dataset\n",
    "iris = load_iris()\n",
    "df = pd.DataFrame(data=iris.data, columns=iris.feature_names)\n",
    "df['target'] = iris.target"
   ]
  },
  {
   "cell_type": "code",
   "execution_count": 25,
   "metadata": {},
   "outputs": [
    {
     "name": "stdout",
     "output_type": "stream",
     "text": [
      "Training set samples: 112\n",
      "Testing set samples: 38\n"
     ]
    }
   ],
   "source": [
    "# Split the dataset into training (75%) and testing (25%) sets\n",
    "X_train, X_test, y_train, y_test = train_test_split(df.iloc[:, :-1], df['target'], test_size=0.25, random_state=42)\n",
    "\n",
    "# Print the number of samples in each set\n",
    "print(f\"Training set samples: {X_train.shape[0]}\")\n",
    "print(f\"Testing set samples: {X_test.shape[0]}\")\n"
   ]
  },
  {
   "cell_type": "markdown",
   "metadata": {},
   "source": [
    "**5. Train a Support Vector Machine (SVM) classifier on the Iris dataset using only the `sepal length` and `sepal width` features. Display the model's accuracy on the training data.**"
   ]
  },
  {
   "cell_type": "code",
   "execution_count": 26,
   "metadata": {},
   "outputs": [
    {
     "name": "stdout",
     "output_type": "stream",
     "text": [
      "SVM Training Accuracy (using Sepal features): 0.7946428571428571\n"
     ]
    }
   ],
   "source": [
    "# Train an SVM using 'sepal length' and 'sepal width' features\n",
    "X_train_sepal = X_train[['sepal length (cm)', 'sepal width (cm)']]\n",
    "X_test_sepal = X_test[['sepal length (cm)', 'sepal width (cm)']]\n",
    "\n",
    "svm_model = SVC(random_state=42)\n",
    "svm_model.fit(X_train_sepal, y_train)\n",
    "\n",
    "# Display accuracy on the training data\n",
    "train_accuracy = svm_model.score(X_train_sepal, y_train)\n",
    "print(f\"SVM Training Accuracy (using Sepal features): {train_accuracy}\")\n"
   ]
  }
 ],
 "metadata": {
  "kernelspec": {
   "display_name": "Python 3",
   "language": "python",
   "name": "python3"
  },
  "language_info": {
   "codemirror_mode": {
    "name": "ipython",
    "version": 3
   },
   "file_extension": ".py",
   "mimetype": "text/x-python",
   "name": "python",
   "nbconvert_exporter": "python",
   "pygments_lexer": "ipython3",
   "version": "3.11.9"
  }
 },
 "nbformat": 4,
 "nbformat_minor": 2
}
