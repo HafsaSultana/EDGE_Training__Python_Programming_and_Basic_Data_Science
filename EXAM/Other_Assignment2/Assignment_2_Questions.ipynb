{
 "cells": [
  {
   "cell_type": "markdown",
   "metadata": {},
   "source": [
    "### Based on this dataframe answer the following 3 questions."
   ]
  },
  {
   "cell_type": "code",
   "execution_count": 1,
   "metadata": {},
   "outputs": [],
   "source": [
    "\n",
    "import pandas as pd\n",
    "data = {\n",
    "    \"OrderID\": [101, 102, 103, 104, 105, 106, 107, 108, 109, 110],\n",
    "    \"CustomerName\": [\"Alice Smith\", \"Bob Johnson\", \"Charlie King\", \"Dana Lee\", \"Eva Davis\",\n",
    "                     \"Frank Brown\", \"Grace Miller\", \"Henry Wilson\", \"Ivy Thomas\", \"Jack Moore\"],\n",
    "    \"Product\": [\"Wireless Mouse\", \"Desk Lamp\", \"Coffee Mug\", \"Office Chair\", \"HDMI Cable\",\n",
    "                \"Notebook\", \"Bluetooth Speaker\", \"Water Bottle\", \"Monitor Stand\", \"Stapler\"],\n",
    "    \"Category\": [\"Electronics\", \"Furniture\", \"Kitchen\", \"Furniture\", \"Electronics\",\n",
    "                 \"Stationery\", \"Electronics\", \"Kitchen\", \"Electronics\", \"Stationery\"],\n",
    "    \"Quantity\": [2, 1, 4, 1, 3, 5, 1, 2, 1, 3],\n",
    "    \"Price\": [25.99, 45.50, 9.99, 199.99, 14.99, 3.49, 49.99, 12.99, 89.99, 5.99],\n",
    "    \"OrderDate\": [\"2024-08-01\", \"2024-08-02\", \"2024-08-03\", \"2024-08-04\",\n",
    "                                 \"2024-08-05\", \"2024-08-06\", \"2024-08-07\", \"2024-08-08\",\n",
    "                                 \"2024-08-09\", \"2024-08-10\"],\n",
    "    \"City\": [\"New York\", \"Los Angeles\", \"Chicago\", \"Houston\", \"Phoenix\", \"Dallas\",\n",
    "             \"New York\", \"Los Angeles\", \"Chicago\", \"Houston\"],\n",
    "    \"PaymentMethod\": [\"Credit Card\", \"PayPal\", \"Debit Card\", \"Credit Card\", \"PayPal\",\n",
    "                      \"Credit Card\", \"Debit Card\", \"PayPal\", \"Credit Card\", \"Debit Card\"],\n",
    "    \"Discount\": [0.1, 0.15, 0, 0.2, 0, 0.05, 0.1, 0.2, 0.1, 0.05]\n",
    "}\n",
    "\n",
    "df = pd.DataFrame(data)"
   ]
  },
  {
   "cell_type": "markdown",
   "metadata": {},
   "source": [
    "**1.Extract all orders made in August 2024 (from the ``OrderDate`` column). How many such orders are there?**"
   ]
  },
  {
   "cell_type": "markdown",
   "metadata": {},
   "source": [
    "**2. Find all orders where the total amount spent (calculated as `Quantity * Price`) is greater than 100. Display the `OrderID`, `CustomerName`, `TotalAmount`, and `PaymentMethod`.**"
   ]
  },
  {
   "cell_type": "markdown",
   "metadata": {},
   "source": [
    "**3. Suppose some entries have a missing `Discount` value (fill them with `NaN`). Find all rows where the `Discount` is missing and replace those missing values with the average discount of the entire dataset. Display the modified DataFrame.**"
   ]
  },
  {
   "cell_type": "markdown",
   "metadata": {},
   "source": [
    "### Answer next questions based on the iris dataset. Load the dataset first."
   ]
  },
  {
   "cell_type": "markdown",
   "metadata": {},
   "source": [
    "**4. Split the Iris dataset into training and test sets with 75% of the data for training and 25% for testing. Print the number of samples in each set.**"
   ]
  },
  {
   "cell_type": "markdown",
   "metadata": {},
   "source": [
    "**5. Train a Support Vector Machine (SVM) classifier on the Iris dataset using only the `sepal length` and `sepal width` features. Display the model's accuracy on the training data.**"
   ]
  }
 ],
 "metadata": {
  "kernelspec": {
   "display_name": "Python 3",
   "language": "python",
   "name": "python3"
  },
  "language_info": {
   "codemirror_mode": {
    "name": "ipython",
    "version": 3
   },
   "file_extension": ".py",
   "mimetype": "text/x-python",
   "name": "python",
   "nbconvert_exporter": "python",
   "pygments_lexer": "ipython3",
   "version": "3.11.9"
  }
 },
 "nbformat": 4,
 "nbformat_minor": 2
}
