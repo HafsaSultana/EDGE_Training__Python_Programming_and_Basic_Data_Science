{
 "cells": [
  {
   "cell_type": "code",
   "execution_count": 2,
   "id": "3550848a",
   "metadata": {},
   "outputs": [],
   "source": [
    "import numpy as np"
   ]
  },
  {
   "cell_type": "markdown",
   "id": "2a7a2e51",
   "metadata": {},
   "source": [
    "# Array Length"
   ]
  },
  {
   "cell_type": "code",
   "execution_count": 17,
   "id": "ec65c04a",
   "metadata": {},
   "outputs": [
    {
     "data": {
      "text/plain": [
       "3"
      ]
     },
     "execution_count": 17,
     "metadata": {},
     "output_type": "execute_result"
    }
   ],
   "source": [
    "input_array = np.array([[1, 2, 3], [4, 5, 6], [7, 8, 9]])\n",
    "\n",
    "len(input_array)"
   ]
  },
  {
   "cell_type": "code",
   "execution_count": 18,
   "id": "c04daaff",
   "metadata": {},
   "outputs": [
    {
     "data": {
      "text/plain": [
       "2"
      ]
     },
     "execution_count": 18,
     "metadata": {},
     "output_type": "execute_result"
    }
   ],
   "source": [
    "input_array = np.array([[4, 5, 6,7,8], [7, 8, 9,9,3]])\n",
    "\n",
    "len(input_array) #num of row"
   ]
  },
  {
   "cell_type": "code",
   "execution_count": 19,
   "id": "3ba4d575",
   "metadata": {},
   "outputs": [
    {
     "name": "stdout",
     "output_type": "stream",
     "text": [
      "(2, 5)\n"
     ]
    }
   ],
   "source": [
    "print(input_array.shape)"
   ]
  },
  {
   "cell_type": "markdown",
   "id": "e972defa",
   "metadata": {},
   "source": [
    "# Array paddind-- np.pad"
   ]
  },
  {
   "cell_type": "code",
   "execution_count": null,
   "id": "33c2c540",
   "metadata": {},
   "outputs": [],
   "source": []
  },
  {
   "cell_type": "markdown",
   "id": "0bd6bd2a",
   "metadata": {},
   "source": [
    "# Array sum"
   ]
  },
  {
   "cell_type": "code",
   "execution_count": null,
   "id": "ef256d06",
   "metadata": {},
   "outputs": [],
   "source": []
  },
  {
   "cell_type": "markdown",
   "id": "1de9fe3b",
   "metadata": {},
   "source": [
    "# Array Mean"
   ]
  },
  {
   "cell_type": "code",
   "execution_count": null,
   "id": "95361ba2",
   "metadata": {},
   "outputs": [],
   "source": []
  },
  {
   "cell_type": "markdown",
   "id": "34506e2d",
   "metadata": {},
   "source": [
    "# Array masking"
   ]
  },
  {
   "cell_type": "code",
   "execution_count": null,
   "id": "834a3d75",
   "metadata": {},
   "outputs": [],
   "source": []
  },
  {
   "cell_type": "markdown",
   "id": "84fe0695",
   "metadata": {},
   "source": [
    "# Array using where ---np.where "
   ]
  },
  {
   "cell_type": "code",
   "execution_count": null,
   "id": "c4737154",
   "metadata": {},
   "outputs": [],
   "source": []
  },
  {
   "cell_type": "code",
   "execution_count": null,
   "id": "6a7f8688",
   "metadata": {},
   "outputs": [],
   "source": []
  }
 ],
 "metadata": {
  "kernelspec": {
   "display_name": "Python 3 (ipykernel)",
   "language": "python",
   "name": "python3"
  },
  "language_info": {
   "codemirror_mode": {
    "name": "ipython",
    "version": 3
   },
   "file_extension": ".py",
   "mimetype": "text/x-python",
   "name": "python",
   "nbconvert_exporter": "python",
   "pygments_lexer": "ipython3",
   "version": "3.11.7"
  }
 },
 "nbformat": 4,
 "nbformat_minor": 5
}
