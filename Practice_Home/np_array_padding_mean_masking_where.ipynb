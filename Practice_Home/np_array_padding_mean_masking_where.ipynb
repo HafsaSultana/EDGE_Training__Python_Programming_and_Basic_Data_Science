{
 "cells": [
  {
   "cell_type": "code",
   "execution_count": 2,
   "id": "3550848a",
   "metadata": {},
   "outputs": [],
   "source": [
    "import numpy as np"
   ]
  },
  {
   "cell_type": "markdown",
   "id": "9b119e5a",
   "metadata": {},
   "source": [
    "# Array Length"
   ]
  },
  {
   "cell_type": "code",
   "execution_count": 17,
   "id": "ec65c04a",
   "metadata": {},
   "outputs": [
    {
     "data": {
      "text/plain": [
       "3"
      ]
     },
     "execution_count": 17,
     "metadata": {},
     "output_type": "execute_result"
    }
   ],
   "source": [
    "input_array = np.array([[1, 2, 3], [4, 5, 6], [7, 8, 9]])\n",
    "\n",
    "len(input_array)"
   ]
  },
  {
   "cell_type": "code",
   "execution_count": 18,
   "id": "c04daaff",
   "metadata": {},
   "outputs": [
    {
     "data": {
      "text/plain": [
       "2"
      ]
     },
     "execution_count": 18,
     "metadata": {},
     "output_type": "execute_result"
    }
   ],
   "source": [
    "input_array = np.array([[4, 5, 6,7,8], [7, 8, 9,9,3]])\n",
    "\n",
    "len(input_array) #num of row"
   ]
  },
  {
   "cell_type": "code",
   "execution_count": 19,
   "id": "0f82f976",
   "metadata": {},
   "outputs": [
    {
     "name": "stdout",
     "output_type": "stream",
     "text": [
      "(2, 5)\n"
     ]
    }
   ],
   "source": [
    "print(input_array.shape)"
   ]
  },
  {
   "cell_type": "markdown",
   "id": "ac08ad37",
   "metadata": {},
   "source": [
    "# Array paddind-- np.pad"
   ]
  },
  {
   "cell_type": "code",
   "execution_count": null,
   "id": "ca649c1e",
   "metadata": {},
   "outputs": [],
   "source": []
  },
  {
   "cell_type": "markdown",
   "id": "4de86f01",
   "metadata": {},
   "source": [
    "# Array sum"
   ]
  },
  {
   "cell_type": "code",
   "execution_count": null,
   "id": "939bb76e",
   "metadata": {},
   "outputs": [],
   "source": []
  },
  {
   "cell_type": "markdown",
   "id": "b05e0585",
   "metadata": {},
   "source": [
    "# Array Mean"
   ]
  },
  {
   "cell_type": "code",
   "execution_count": null,
   "id": "b03f2216",
   "metadata": {},
   "outputs": [],
   "source": []
  },
  {
   "cell_type": "markdown",
   "id": "dd1d7433",
   "metadata": {},
   "source": [
    "# Array masking"
   ]
  },
  {
   "cell_type": "code",
   "execution_count": null,
   "id": "1a103011",
   "metadata": {},
   "outputs": [],
   "source": []
  },
  {
   "cell_type": "markdown",
   "id": "277d996c",
   "metadata": {},
   "source": [
    "# Array using where ---np.where "
   ]
  },
  {
   "cell_type": "code",
   "execution_count": 21,
   "id": "c0350282",
   "metadata": {},
   "outputs": [
    {
     "data": {
      "text/plain": [
       "array([0, 1, 2, 3, 4, 5, 6, 7, 8, 9])"
      ]
     },
     "execution_count": 21,
     "metadata": {},
     "output_type": "execute_result"
    }
   ],
   "source": [
    "a = np.arange(10)\n",
    "a"
   ]
  },
  {
   "cell_type": "code",
   "execution_count": 22,
   "id": "ae17e9f2",
   "metadata": {},
   "outputs": [
    {
     "data": {
      "text/plain": [
       "array([ 0,  1,  2,  3,  4, 50, 60, 70, 80, 90])"
      ]
     },
     "execution_count": 22,
     "metadata": {},
     "output_type": "execute_result"
    }
   ],
   "source": [
    "np.where(a < 5, a, 10*a)"
   ]
  },
  {
   "cell_type": "code",
   "execution_count": null,
   "id": "4a1d6d0d",
   "metadata": {},
   "outputs": [],
   "source": []
  }
 ],
 "metadata": {
  "kernelspec": {
   "display_name": "Python 3 (ipykernel)",
   "language": "python",
   "name": "python3"
  },
  "language_info": {
   "codemirror_mode": {
    "name": "ipython",
    "version": 3
   },
   "file_extension": ".py",
   "mimetype": "text/x-python",
   "name": "python",
   "nbconvert_exporter": "python",
   "pygments_lexer": "ipython3",
   "version": "3.11.7"
  }
 },
 "nbformat": 4,
 "nbformat_minor": 5
}
